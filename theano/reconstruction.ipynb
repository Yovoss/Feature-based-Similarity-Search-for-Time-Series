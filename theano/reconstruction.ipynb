{
 "cells": [
  {
   "cell_type": "code",
   "execution_count": 1,
   "metadata": {
    "collapsed": false
   },
   "outputs": [
    {
     "name": "stderr",
     "output_type": "stream",
     "text": [
      "Using gpu device 0: Quadro K1100M (CNMeM is enabled with initial size: 95.0% of memory, cuDNN not available)\n"
     ]
    }
   ],
   "source": [
    "import numpy\n",
    "import six.moves.cPickle as pickle\n",
    "import theano"
   ]
  },
  {
   "cell_type": "code",
   "execution_count": 2,
   "metadata": {
    "collapsed": true
   },
   "outputs": [],
   "source": [
    "fileObject = open('data/best_SdA_model.pkl','r')\n",
    "data_set = pickle.load(fileObject)\n",
    "\n",
    "params = [numpy.array(dataset) for dataset in data_set]"
   ]
  },
  {
   "cell_type": "code",
   "execution_count": 3,
   "metadata": {
    "collapsed": true
   },
   "outputs": [],
   "source": [
    "fileObject1 = open('data/samples','r')\n",
    "samples = pickle.load(fileObject1)\n",
    "\n",
    "time_series = numpy.array(samples)"
   ]
  },
  {
   "cell_type": "code",
   "execution_count": 13,
   "metadata": {
    "collapsed": false
   },
   "outputs": [],
   "source": [
    "def sigmoid(z):\n",
    "    s = 1.0 / (1.0 + numpy.exp(-1.0 * z))\n",
    "    return s"
   ]
  },
  {
   "cell_type": "code",
   "execution_count": 18,
   "metadata": {
    "collapsed": true
   },
   "outputs": [],
   "source": [
    "def get_hidden_values(input, W, b, active = None):\n",
    "    if not active:\n",
    "        return numpy.dot(input, W) + b\n",
    "    else:\n",
    "        return active(numpy.dot(input, W) + b)"
   ]
  },
  {
   "cell_type": "code",
   "execution_count": 19,
   "metadata": {
    "collapsed": true
   },
   "outputs": [],
   "source": [
    "def get_reconstructed_values(input, W_prime, b_prime, active = None):\n",
    "    if not active:\n",
    "        return numpy.dot(input, W_prime) + b_prime\n",
    "    else:\n",
    "        return active(numpy.dot(input, W_prime) + b_prime)"
   ]
  },
  {
   "cell_type": "code",
   "execution_count": 23,
   "metadata": {
    "collapsed": false
   },
   "outputs": [],
   "source": [
    "# first hidden layer\n",
    "hidden1 = get_hidden_values(time_series, params[0], params[1], active=sigmoid)"
   ]
  },
  {
   "cell_type": "code",
   "execution_count": 24,
   "metadata": {
    "collapsed": false
   },
   "outputs": [],
   "source": [
    "# second hidden layer\n",
    "hidden2 = get_hidden_values(hidden1, params[4], params[5], active=sigmoid)"
   ]
  },
  {
   "cell_type": "code",
   "execution_count": 26,
   "metadata": {
    "collapsed": false
   },
   "outputs": [],
   "source": [
    "# second hidden layer\n",
    "hidden3 = get_hidden_values(hidden2, params[7], params[8], active=sigmoid)"
   ]
  },
  {
   "cell_type": "code",
   "execution_count": 28,
   "metadata": {
    "collapsed": false
   },
   "outputs": [],
   "source": [
    "recons2 = get_reconstructed_values(hidden3, params[7].T, params[9], active=sigmoid)"
   ]
  },
  {
   "cell_type": "code",
   "execution_count": 30,
   "metadata": {
    "collapsed": false
   },
   "outputs": [],
   "source": [
    "recons1 = get_reconstructed_values(recons2, params[4].T, params[6], active=sigmoid)"
   ]
  },
  {
   "cell_type": "code",
   "execution_count": 33,
   "metadata": {
    "collapsed": false
   },
   "outputs": [
    {
     "name": "stdout",
     "output_type": "stream",
     "text": [
      "(10000, 128)\n"
     ]
    }
   ],
   "source": [
    "print recons1.shape"
   ]
  },
  {
   "cell_type": "code",
   "execution_count": 34,
   "metadata": {
    "collapsed": false
   },
   "outputs": [],
   "source": [
    "output = get_reconstructed_values(recons1, params[3], params[2])"
   ]
  },
  {
   "cell_type": "code",
   "execution_count": 35,
   "metadata": {
    "collapsed": false
   },
   "outputs": [
    {
     "name": "stdout",
     "output_type": "stream",
     "text": [
      "[[  44.18210647   40.70885841   37.36137831 ...,  122.48163969\n",
      "    67.38726292   66.53999008]\n",
      " [  43.61280934   40.96794265   47.3722912  ...,  117.78199663\n",
      "    61.90707757   60.42549291]\n",
      " [ 116.38910655  106.48131931   96.56451429 ...,  142.70257056\n",
      "   127.83321235  120.55652164]\n",
      " ..., \n",
      " [  54.53111192   52.09643556   60.03379702 ...,  134.53418435\n",
      "   116.75319035  121.83923671]\n",
      " [  53.11201776   46.68364765   43.30346116 ...,   83.10310265\n",
      "    83.39908072   89.37259951]\n",
      " [  83.17016643   85.78787477   89.30835239 ...,   96.99104062\n",
      "    90.52867957   93.38487222]]\n"
     ]
    }
   ],
   "source": [
    "print output"
   ]
  },
  {
   "cell_type": "code",
   "execution_count": 36,
   "metadata": {
    "collapsed": false
   },
   "outputs": [
    {
     "name": "stdout",
     "output_type": "stream",
     "text": [
      "[[ 43  41  44 ..., 128  46  46]\n",
      " [ 38  44  44 ..., 133  45  56]\n",
      " [167 124 124 ..., 162 148 158]\n",
      " ..., \n",
      " [ 46  46  54 ..., 109 106  98]\n",
      " [ 39  79  39 ...,  96  93  92]\n",
      " [ 91  91  87 ...,  96  93  97]]\n"
     ]
    }
   ],
   "source": [
    "print time_series"
   ]
  },
  {
   "cell_type": "code",
   "execution_count": 38,
   "metadata": {
    "collapsed": true
   },
   "outputs": [],
   "source": [
    "%matplotlib inline\n",
    "import matplotlib.pyplot as plt"
   ]
  },
  {
   "cell_type": "code",
   "execution_count": 62,
   "metadata": {
    "collapsed": false
   },
   "outputs": [
    {
     "data": {
      "image/png": "[encoded data removed]",
      "text/plain": [
       "<matplotlib.figure.Figure at 0x7f62df25ef90>"
      ]
     },
     "metadata": {},
     "output_type": "display_data"
    }
   ],
   "source": [
    "fig = plt.figure()\n",
    "Xaxis = range(23)\n",
    "for i in range(3):\n",
    "    for j in range(3):\n",
    "        ax = plt.subplot2grid((3,3), (i, j))\n",
    "        plt.plot(Xaxis, time_series[i * 3 + j+ 834], 'r')\n",
    "        plt.plot(Xaxis, output[i * 3 + j + 834], 'g')\n",
    "        "
   ]
  },
  {
   "cell_type": "code",
   "execution_count": 53,
   "metadata": {
    "collapsed": false
   },
   "outputs": [
    {
     "name": "stdout",
     "output_type": "stream",
     "text": [
      "[[  3.31793172e-03   1.46789723e-01   9.44106748e-01 ...,   6.99610564e-01\n",
      "    9.99843312e-01   9.97480403e-01]\n",
      " [  1.02871343e-03   7.79637835e-02   5.20456153e-04 ...,   2.82656224e-01\n",
      "    9.96797477e-01   9.99595875e-01]\n",
      " [  8.42913440e-01   3.30810571e-03   9.79061191e-01 ...,   9.96865459e-01\n",
      "    2.06552321e-04   8.69570727e-01]\n",
      " ..., \n",
      " [  9.89076814e-04   9.95428138e-01   9.64034794e-01 ...,   1.80547981e-03\n",
      "    9.35822571e-01   9.39487888e-01]\n",
      " [  2.91626392e-02   4.19449461e-03   4.33073634e-01 ...,   3.01407476e-03\n",
      "    9.99975134e-01   3.54682687e-03]\n",
      " [  7.88322888e-03   3.63082483e-03   1.90222024e-03 ...,   3.89658858e-02\n",
      "    1.41492744e-02   3.70924859e-03]]\n"
     ]
    }
   ],
   "source": [
    "print hidden3"
   ]
  },
  {
   "cell_type": "code",
   "execution_count": 54,
   "metadata": {
    "collapsed": false
   },
   "outputs": [
    {
     "name": "stdout",
     "output_type": "stream",
     "text": [
      "[  3.31793172e-03   1.46789723e-01   9.44106748e-01   9.99879534e-01\n",
      "   5.45939972e-01   1.37341588e-03   9.58007234e-01   6.57157752e-01\n",
      "   2.58267147e-04   9.96244503e-01   8.04831500e-02   3.17586494e-01\n",
      "   1.00000000e+00   6.99610564e-01   9.99843312e-01   9.97480403e-01]\n"
     ]
    }
   ],
   "source": [
    "print hidden3[0]"
   ]
  },
  {
   "cell_type": "code",
   "execution_count": 1,
   "metadata": {
    "collapsed": true
   },
   "outputs": [],
   "source": []
  },
  {
   "cell_type": "code",
   "execution_count": null,
   "metadata": {
    "collapsed": true
   },
   "outputs": [],
   "source": []
  }
 ],
 "metadata": {
  "kernelspec": {
   "display_name": "Python 2",
   "language": "python",
   "name": "python2"
  },
  "language_info": {
   "codemirror_mode": {
    "name": "ipython",
    "version": 2
   },
   "file_extension": ".py",
   "mimetype": "text/x-python",
   "name": "python",
   "nbconvert_exporter": "python",
   "pygments_lexer": "ipython2",
   "version": "2.7.6"
  }
 },
 "nbformat": 4,
 "nbformat_minor": 1
}
