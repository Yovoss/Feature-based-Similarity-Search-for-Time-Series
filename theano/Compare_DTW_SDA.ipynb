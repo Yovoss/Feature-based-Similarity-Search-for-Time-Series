{
 "cells": [
  {
   "cell_type": "code",
   "execution_count": 1,
   "metadata": {
    "collapsed": false
   },
   "outputs": [
    {
     "name": "stderr",
     "output_type": "stream",
     "text": [
      "Using gpu device 0: Quadro K1100M (CNMeM is enabled with initial size: 95.0% of memory, cuDNN not available)\n"
     ]
    }
   ],
   "source": [
    "import numpy\n",
    "import six.moves.cPickle as pickle\n",
    "import theano"
   ]
  },
  {
   "cell_type": "code",
   "execution_count": 2,
   "metadata": {
    "collapsed": true
   },
   "outputs": [],
   "source": [
    "fileObject = open('data/best_SdA_model.pkl','r')\n",
    "data_set = pickle.load(fileObject)\n",
    "\n",
    "params = [numpy.array(dataset) for dataset in data_set]"
   ]
  },
  {
   "cell_type": "code",
   "execution_count": 3,
   "metadata": {
    "collapsed": true
   },
   "outputs": [],
   "source": [
    "def sigmoid(z):\n",
    "    s = 1.0 / (1.0 + numpy.exp(-1.0 * z))\n",
    "    return s"
   ]
  },
  {
   "cell_type": "code",
   "execution_count": 4,
   "metadata": {
    "collapsed": true
   },
   "outputs": [],
   "source": [
    "def get_hidden_values(input, W, b, active = None):\n",
    "    if not active:\n",
    "        return numpy.dot(input, W) + b\n",
    "    else:\n",
    "        return active(numpy.dot(input, W) + b)"
   ]
  },
  {
   "cell_type": "code",
   "execution_count": 5,
   "metadata": {
    "collapsed": true
   },
   "outputs": [],
   "source": [
    "def get_reconstructed_values(input, W_prime, b_prime, active = None):\n",
    "    if not active:\n",
    "        return numpy.dot(input, W_prime) + b_prime\n",
    "    else:\n",
    "        return active(numpy.dot(input, W_prime) + b_prime)"
   ]
  },
  {
   "cell_type": "code",
   "execution_count": 6,
   "metadata": {
    "collapsed": true
   },
   "outputs": [],
   "source": [
    "fileObject1 = open('data/samples1','r')\n",
    "samples = pickle.load(fileObject1)\n",
    "\n",
    "time_series = numpy.array(samples)"
   ]
  },
  {
   "cell_type": "code",
   "execution_count": 7,
   "metadata": {
    "collapsed": true
   },
   "outputs": [],
   "source": [
    "layers = [4,3,3]\n",
    "hiddens = []\n",
    "recons = []"
   ]
  },
  {
   "cell_type": "code",
   "execution_count": 8,
   "metadata": {
    "collapsed": true
   },
   "outputs": [],
   "source": [
    "n_layers = len(layers)\n",
    "inputs = time_series\n",
    "index = 0"
   ]
  },
  {
   "cell_type": "code",
   "execution_count": 9,
   "metadata": {
    "collapsed": false
   },
   "outputs": [],
   "source": [
    "for i in range(n_layers):\n",
    "    outputs = get_hidden_values(inputs, params[index], params[index + 1], active=sigmoid)\n",
    "    hiddens.append(outputs)\n",
    "    inputs = outputs\n",
    "    index += layers[i]"
   ]
  },
  {
   "cell_type": "code",
   "execution_count": 10,
   "metadata": {
    "collapsed": false
   },
   "outputs": [],
   "source": [
    "for i in range(n_layers - 1, -1, -1):\n",
    "    index -= layers[i]\n",
    "    if layers[i] == 4:\n",
    "        outputs = get_reconstructed_values(inputs, params[index+3], params[index + 2])\n",
    "    else:\n",
    "        outputs = get_reconstructed_values(inputs, params[index].T, params[index + 2], active=sigmoid)\n",
    "    recons.append(outputs)\n",
    "    inputs = outputs"
   ]
  },
  {
   "cell_type": "code",
   "execution_count": 11,
   "metadata": {
    "collapsed": false
   },
   "outputs": [
    {
     "name": "stdout",
     "output_type": "stream",
     "text": [
      "[[ 38.11447389  35.67132152  36.34243182 ...,  99.48572578  88.16298206\n",
      "   93.85643409]\n",
      " [ 88.55834326  83.77608009  80.95402297 ...,  92.41812752  69.05159047\n",
      "   86.04137718]\n",
      " [ 25.00397268  26.13734674  30.39938783 ...,  88.4126539   82.35197381\n",
      "   86.47459649]\n",
      " ..., \n",
      " [ 57.00949563  54.58397052  45.90179245 ...,  87.93980974  80.64935578\n",
      "   58.80666032]\n",
      " [ 61.1088458   48.45870692  38.66631956 ...,  92.0780285   80.48641576\n",
      "   63.15247257]\n",
      " [ 89.18197931  79.95938966  65.03762512 ...,  93.73528066  93.40702343\n",
      "   85.1228842 ]]\n"
     ]
    }
   ],
   "source": [
    "print recons[-1]"
   ]
  },
  {
   "cell_type": "code",
   "execution_count": 12,
   "metadata": {
    "collapsed": true
   },
   "outputs": [],
   "source": [
    "def dtw(list1, list2, window = 1):\n",
    "    len1 = len(list1)\n",
    "    len2 = len(list2)\n",
    "    mat = [[float('inf') for x in range(len2 + 1)] for y in range(len1 + 1)]\n",
    "    mat[0][0] = 0\n",
    "    for i in range(len1 + 1):\n",
    "        if i - window <= 1:\n",
    "            start = 1\n",
    "        else:\n",
    "            start = i - window\n",
    "        \n",
    "        if i + window <= len2:\n",
    "            end = i + window\n",
    "        else:\n",
    "            end = len2\n",
    "        for j in range(start, end + 1):\n",
    "            cost = abs(float(list1[i - 1] - list2[j - 1]))\n",
    "            mat[i][j] = cost + min(mat[i-1][j], mat[i][j-1],mat[i-1][j-1])\n",
    "        \n",
    "    return mat[len1][len2]"
   ]
  },
  {
   "cell_type": "code",
   "execution_count": 13,
   "metadata": {
    "collapsed": true
   },
   "outputs": [],
   "source": [
    "def euclideanDist(list1,list2):\n",
    "    distance = 0\n",
    "    for x in range(len(list1)):\n",
    "        distance += pow((list1[x]-list2[x]),2)\n",
    "    return math.sqrt(distance)"
   ]
  },
  {
   "cell_type": "code",
   "execution_count": 14,
   "metadata": {
    "collapsed": true
   },
   "outputs": [],
   "source": [
    "import math"
   ]
  },
  {
   "cell_type": "code",
   "execution_count": 15,
   "metadata": {
    "collapsed": false
   },
   "outputs": [],
   "source": [
    "distance0 = []"
   ]
  },
  {
   "cell_type": "code",
   "execution_count": 16,
   "metadata": {
    "collapsed": false
   },
   "outputs": [],
   "source": [
    "for i in range(1000):\n",
    "    distance0.append((i,dtw(time_series[i], time_series[-1])))"
   ]
  },
  {
   "cell_type": "code",
   "execution_count": 17,
   "metadata": {
    "collapsed": false
   },
   "outputs": [],
   "source": [
    "Original_result = sorted(distance0, key=(lambda x: x[1]))"
   ]
  },
  {
   "cell_type": "code",
   "execution_count": 18,
   "metadata": {
    "collapsed": false
   },
   "outputs": [],
   "source": [
    "distance1 = []"
   ]
  },
  {
   "cell_type": "code",
   "execution_count": 19,
   "metadata": {
    "collapsed": false
   },
   "outputs": [],
   "source": [
    "for i in range(1000):\n",
    "    distance1.append((i, euclideanDist(hiddens[-1][i], hiddens[-1][-1])))"
   ]
  },
  {
   "cell_type": "code",
   "execution_count": 20,
   "metadata": {
    "collapsed": false
   },
   "outputs": [],
   "source": [
    "Euclidean_16_result = sorted(distance1, key=(lambda x: x[1]))"
   ]
  },
  {
   "cell_type": "code",
   "execution_count": 21,
   "metadata": {
    "collapsed": false
   },
   "outputs": [
    {
     "data": {
      "text/plain": [
       "[(405, 118.0),\n",
       " (701, 120.0),\n",
       " (211, 144.0),\n",
       " (789, 146.0),\n",
       " (543, 157.0),\n",
       " (199, 160.0),\n",
       " (167, 161.0),\n",
       " (63, 163.0),\n",
       " (839, 173.0),\n",
       " (753, 175.0)]"
      ]
     },
     "execution_count": 21,
     "metadata": {},
     "output_type": "execute_result"
    }
   ],
   "source": [
    "Original_result[:10]"
   ]
  },
  {
   "cell_type": "code",
   "execution_count": 22,
   "metadata": {
    "collapsed": false
   },
   "outputs": [
    {
     "data": {
      "text/plain": [
       "[(99, 0.7338474822219853),\n",
       " (207, 0.7361917135251163),\n",
       " (503, 0.7547665658163157),\n",
       " (143, 0.7818312310716204),\n",
       " (239, 0.8528829196232515),\n",
       " (619, 0.8666111743554057),\n",
       " (165, 0.876925895743165),\n",
       " (779, 0.8913663551880779),\n",
       " (917, 0.9343050486865133),\n",
       " (157, 0.9598424428853842)]"
      ]
     },
     "execution_count": 22,
     "metadata": {},
     "output_type": "execute_result"
    }
   ],
   "source": [
    "Euclidean_16_result[:10]"
   ]
  },
  {
   "cell_type": "code",
   "execution_count": 20,
   "metadata": {
    "collapsed": true
   },
   "outputs": [],
   "source": [
    "%matplotlib inline\n",
    "import matplotlib.pyplot as plt"
   ]
  },
  {
   "cell_type": "code",
   "execution_count": 81,
   "metadata": {
    "collapsed": false
   },
   "outputs": [
    {
     "data": {
      "image/png": "[encoded data removed]",
      "text/plain": [
       "<matplotlib.figure.Figure at 0x7f1ca84d3a90>"
      ]
     },
     "metadata": {},
     "output_type": "display_data"
    }
   ],
   "source": [
    "fig = plt.figure()\n",
    "Xaxis = range(23)\n",
    "for i in range(3):\n",
    "    for j in range(3):\n",
    "        ax = plt.subplot2grid((3,3), (i, j))\n",
    "        #plt.plot(Xaxis, time_series[i * 3 + j+ 9991], 'r')\n",
    "        #plt.plot(Xaxis, recons[-1][i * 3 + j + 9991], 'g')\n",
    "        if i == 0 and j == 0:\n",
    "            plt.plot(Xaxis, time_series[405],'r')\n",
    "            plt.plot(Xaxis, recons[-1][405],'g')\n",
    "        elif i == 0 and j == 1:\n",
    "            plt.plot(Xaxis, time_series[701],'r')\n",
    "            plt.plot(Xaxis, recons[-1][701],'g')\n",
    "        elif i == 0 and j == 2:\n",
    "            plt.plot(Xaxis, time_series[199],'r')\n",
    "            plt.plot(Xaxis, recons[-1][199],'g')\n",
    "        elif i == 1 and j == 0:\n",
    "            plt.plot(Xaxis, time_series[661],'r')\n",
    "            plt.plot(Xaxis, recons[-1][661],'g')       \n",
    "        elif i == 1 and j == 1:\n",
    "            plt.plot(Xaxis, time_series[243],'r')\n",
    "            plt.plot(Xaxis, recons[-1][243],'g') \n",
    "        elif i == 1 and j == 2:\n",
    "            plt.plot(Xaxis, time_series[-1],'r')\n",
    "            plt.plot(Xaxis, recons[-1][-1],'g') "
   ]
  },
  {
   "cell_type": "code",
   "execution_count": 78,
   "metadata": {
    "collapsed": false
   },
   "outputs": [
    {
     "name": "stdout",
     "output_type": "stream",
     "text": [
      "[  9.98682244e-01   6.01392536e-01   9.65423693e-01   6.44290133e-01\n",
      "   9.21902754e-01   9.75621413e-01   3.39320529e-01   7.42512695e-01\n",
      "   9.99947238e-01   5.86587550e-03   1.42800251e-01   9.95372479e-01\n",
      "   1.00000000e+00   7.19875692e-01   1.42824121e-04   1.20320581e-01]\n"
     ]
    }
   ],
   "source": [
    "print hiddens[-1][-1]"
   ]
  },
  {
   "cell_type": "code",
   "execution_count": 79,
   "metadata": {
    "collapsed": false
   },
   "outputs": [
    {
     "name": "stdout",
     "output_type": "stream",
     "text": [
      "[  4.89308377e-02   7.64490022e-01   9.43759533e-02   9.98006837e-01\n",
      "   2.39351022e-04   5.30762101e-03   9.96234739e-01   3.91184670e-01\n",
      "   1.44231203e-03   9.99238511e-01   5.59898059e-05   9.90329226e-01\n",
      "   1.00000000e+00   9.90087789e-01   3.36382733e-01   7.16991629e-01]\n"
     ]
    }
   ],
   "source": [
    "print hiddens[-1][450]"
   ]
  },
  {
   "cell_type": "code",
   "execution_count": null,
   "metadata": {
    "collapsed": true
   },
   "outputs": [],
   "source": []
  },
  {
   "cell_type": "code",
   "execution_count": 21,
   "metadata": {
    "collapsed": false
   },
   "outputs": [],
   "source": [
    "for i in range(1000):\n",
    "    distance1.append((i, euclideanDist(hiddens[0][i], hiddens[0][-1])))"
   ]
  },
  {
   "cell_type": "code",
   "execution_count": 22,
   "metadata": {
    "collapsed": false
   },
   "outputs": [],
   "source": [
    "Euclidean_128_result = sorted(distance1, key=(lambda x: x[1]))"
   ]
  },
  {
   "cell_type": "code",
   "execution_count": 24,
   "metadata": {
    "collapsed": false
   },
   "outputs": [],
   "source": [
    "d0 = map(lambda x: x[0], Original_result)\n",
    "d1 = map(lambda x: x[0], Euclidean_128_result)"
   ]
  },
  {
   "cell_type": "code",
   "execution_count": 25,
   "metadata": {
    "collapsed": false
   },
   "outputs": [],
   "source": [
    "distance2 = []"
   ]
  },
  {
   "cell_type": "code",
   "execution_count": 28,
   "metadata": {
    "collapsed": true
   },
   "outputs": [],
   "source": [
    "d2 = map(lambda x: x[0], Euclidean_16_result)"
   ]
  },
  {
   "cell_type": "code",
   "execution_count": 86,
   "metadata": {
    "collapsed": false
   },
   "outputs": [],
   "source": [
    "#print d2"
   ]
  },
  {
   "cell_type": "code",
   "execution_count": 30,
   "metadata": {
    "collapsed": false
   },
   "outputs": [
    {
     "data": {
      "text/plain": [
       "[(263, 67.01492371106603),\n",
       " (199, 69.2314957226839),\n",
       " (789, 70.95068710026705),\n",
       " (839, 72.16647421067486),\n",
       " (187, 75.76938695805846),\n",
       " (63, 75.97367965289031),\n",
       " (211, 75.97367965289031),\n",
       " (143, 78.5175139698144),\n",
       " (818, 78.9746794865291),\n",
       " (885, 81.13568881817667)]"
      ]
     },
     "execution_count": 30,
     "metadata": {},
     "output_type": "execute_result"
    }
   ],
   "source": [
    "Original_result[:10]"
   ]
  },
  {
   "cell_type": "code",
   "execution_count": 87,
   "metadata": {
    "collapsed": false
   },
   "outputs": [],
   "source": [
    "#print len(set(d2[:100]).intersection(set(d0[:100])))/100.0"
   ]
  },
  {
   "cell_type": "code",
   "execution_count": 32,
   "metadata": {
    "collapsed": false
   },
   "outputs": [
    {
     "data": {
      "text/plain": [
       "[(11, 0.324312578286678),\n",
       " (993, 0.5210962429152207),\n",
       " (391, 0.5624145285849886),\n",
       " (335, 0.573028983572051),\n",
       " (585, 0.6586924960672079),\n",
       " (161, 0.6917722732581377),\n",
       " (715, 0.7656609198779841),\n",
       " (821, 0.7867285691523141),\n",
       " (367, 0.8412590006165529),\n",
       " (885, 0.8979025829190809)]"
      ]
     },
     "execution_count": 32,
     "metadata": {},
     "output_type": "execute_result"
    }
   ],
   "source": [
    "Euclidean_16_result[:10]"
   ]
  },
  {
   "cell_type": "code",
   "execution_count": 33,
   "metadata": {
    "collapsed": false
   },
   "outputs": [],
   "source": [
    "distance3 = []"
   ]
  },
  {
   "cell_type": "code",
   "execution_count": 35,
   "metadata": {
    "collapsed": true
   },
   "outputs": [],
   "source": [
    "for i in range(1000):\n",
    "    distance3.append((i,euclideanDist(time_series[i], time_series[-2])))"
   ]
  },
  {
   "cell_type": "code",
   "execution_count": 37,
   "metadata": {
    "collapsed": true
   },
   "outputs": [],
   "source": [
    "Original_result_another = sorted(distance3, key=(lambda x: x[1]))"
   ]
  },
  {
   "cell_type": "code",
   "execution_count": 38,
   "metadata": {
    "collapsed": true
   },
   "outputs": [],
   "source": [
    "distance4 = []"
   ]
  },
  {
   "cell_type": "code",
   "execution_count": 39,
   "metadata": {
    "collapsed": true
   },
   "outputs": [],
   "source": [
    "for i in range(1000):\n",
    "    distance4.append((i, euclideanDist(hiddens[-1][i], hiddens[-1][-2])))"
   ]
  },
  {
   "cell_type": "code",
   "execution_count": 40,
   "metadata": {
    "collapsed": true
   },
   "outputs": [],
   "source": [
    "Euclidean_16_result_another = sorted(distance4, key=(lambda x: x[1]))"
   ]
  },
  {
   "cell_type": "code",
   "execution_count": 44,
   "metadata": {
    "collapsed": false
   },
   "outputs": [
    {
     "data": {
      "text/plain": [
       "[(254, 59.799665550904216),\n",
       " (922, 60.778285596090974),\n",
       " (337, 61.7980582219215),\n",
       " (564, 63.05553108173778),\n",
       " (232, 68.81860213634101),\n",
       " (674, 69.18092222571191),\n",
       " (470, 69.34695379034324),\n",
       " (865, 69.3757882838098),\n",
       " (262, 69.88562083862459),\n",
       " (242, 71.32320800412724),\n",
       " (760, 71.386273190299),\n",
       " (80, 72.64984514780468),\n",
       " (838, 74.3370701601832),\n",
       " (210, 76.27581530209953),\n",
       " (238, 77.26577508832743),\n",
       " (507, 78.03204469959762),\n",
       " (66, 78.53661566428744),\n",
       " (76, 79.29060473977985),\n",
       " (187, 79.58643100428615),\n",
       " (336, 79.61155694998057),\n",
       " (500, 79.89993742175271),\n",
       " (867, 80.52328855678958),\n",
       " (143, 80.7093550959243),\n",
       " (916, 80.88881257627658),\n",
       " (884, 80.9814793641114),\n",
       " (788, 81.12336284942828),\n",
       " (198, 82.07313811473277),\n",
       " (255, 82.07313811473277),\n",
       " (62, 82.21921916437786),\n",
       " (166, 82.8914953418021),\n",
       " (466, 84.14273587185052),\n",
       " (752, 84.40971508067067),\n",
       " (700, 84.77617589865682),\n",
       " (662, 85.14693182963201),\n",
       " (587, 85.20563361656318),\n",
       " (268, 86.72369918309528),\n",
       " (375, 87.16077099245967),\n",
       " (195, 87.18944890294927),\n",
       " (256, 87.34414691323055),\n",
       " (74, 87.41853350405736),\n",
       " (52, 87.5728268357257),\n",
       " (501, 87.74964387392122),\n",
       " (709, 87.80091115700337),\n",
       " (864, 87.86353054595519),\n",
       " (774, 88.10221336606703),\n",
       " (544, 88.12491134747314),\n",
       " (317, 88.2779700718135),\n",
       " (779, 88.66228059327146),\n",
       " (562, 88.66791979064357),\n",
       " (415, 89.03370148432559)]"
      ]
     },
     "execution_count": 44,
     "metadata": {},
     "output_type": "execute_result"
    }
   ],
   "source": [
    "Original_result_another[:50]"
   ]
  },
  {
   "cell_type": "code",
   "execution_count": 45,
   "metadata": {
    "collapsed": false
   },
   "outputs": [
    {
     "data": {
      "text/plain": [
       "[(500, 0.3824923196869392),\n",
       " (232, 0.5100404755171017),\n",
       " (540, 0.6085905890665665),\n",
       " (736, 0.6433441856406433),\n",
       " (971, 0.6452617849848978),\n",
       " (364, 0.7401275979955443),\n",
       " (336, 0.7417951416995913),\n",
       " (242, 0.8211751725295074),\n",
       " (284, 0.8985529544313459),\n",
       " (976, 0.991423616687567),\n",
       " (610, 1.028376871728494),\n",
       " (867, 1.0575381419871548),\n",
       " (678, 1.0955294991249669),\n",
       " (974, 1.1126756668617965),\n",
       " (337, 1.1132969493960858),\n",
       " (541, 1.1165810840778472),\n",
       " (588, 1.1324101767385926),\n",
       " (160, 1.1330446843969972),\n",
       " (471, 1.1339595328883103),\n",
       " (210, 1.1418282919511893)]"
      ]
     },
     "execution_count": 45,
     "metadata": {},
     "output_type": "execute_result"
    }
   ],
   "source": [
    "Euclidean_16_result_another[:20]"
   ]
  },
  {
   "cell_type": "code",
   "execution_count": 89,
   "metadata": {
    "collapsed": false
   },
   "outputs": [],
   "source": [
    "#print DTW_result"
   ]
  },
  {
   "cell_type": "code",
   "execution_count": 84,
   "metadata": {
    "collapsed": false
   },
   "outputs": [
    {
     "name": "stdout",
     "output_type": "stream",
     "text": [
      "[ 88  87  88  87  41 101 106 114 122 114 106  95  88  86  90  84  89  94\n",
      "  95  94  92  92  89]\n"
     ]
    }
   ],
   "source": [
    "print time_series[405]"
   ]
  },
  {
   "cell_type": "code",
   "execution_count": 85,
   "metadata": {
    "collapsed": false
   },
   "outputs": [
    {
     "name": "stdout",
     "output_type": "stream",
     "text": [
      "[ 85  77  81  40  38  42 106 113 134 122 114 100 104  90  90 100  97 109\n",
      "  93  88  88  90  81]\n"
     ]
    }
   ],
   "source": [
    "print time_series[-1]"
   ]
  },
  {
   "cell_type": "code",
   "execution_count": 95,
   "metadata": {
    "collapsed": true
   },
   "outputs": [],
   "source": [
    "distance3 = []\n",
    "for i in range(1000):\n",
    "    distance3.append((i, euclideanDist(hiddens[-1][i], hiddens[-1][-1])))\n",
    "Euclidean_16_result = sorted(distance3, key=(lambda x: x[1]))"
   ]
  },
  {
   "cell_type": "code",
   "execution_count": 96,
   "metadata": {
    "collapsed": true
   },
   "outputs": [],
   "source": [
    "d3 = map(lambda x: x[0], Euclidean_16_result)"
   ]
  },
  {
   "cell_type": "code",
   "execution_count": 97,
   "metadata": {
    "collapsed": false
   },
   "outputs": [
    {
     "name": "stdout",
     "output_type": "stream",
     "text": [
      "[243, 661, 605, 501, 161, 553, 797, 217, 11, 199, 684, 346, 365, 937, 973, 839, 137, 53, 619, 518, 818, 972, 817, 865, 379, 885, 143, 503, 594, 633, 149, 297, 753, 630, 73, 863, 711, 467, 265, 789, 585, 749, 589, 995, 347, 601, 130, 474, 313, 745, 235, 339, 311, 567, 211, 851, 89, 925, 431, 269, 99, 882, 326, 415, 165, 95, 427, 445, 731, 92, 82, 701, 81, 917, 263, 443, 953, 604, 393, 285, 679, 129, 595, 131, 614, 33, 775, 669, 389, 737, 829, 967, 405, 41, 197, 459, 571, 383, 975, 602, 325, 119, 658, 321, 726, 167, 555, 823, 515, 931, 71, 713, 833, 107, 212, 153, 508, 331, 80, 543, 675, 59, 330, 853, 542, 739, 796, 545, 519, 367, 317, 751, 327, 969, 813, 659, 391, 262, 803, 631, 514, 368, 702, 177, 693, 345, 902, 764, 730, 850, 993, 768, 506, 77, 117, 127, 799, 105, 547, 419, 665, 239, 31, 123, 201, 254, 787, 615, 802, 247, 523, 923, 795, 673, 704, 816, 189, 527, 471, 58, 75, 809, 767, 216, 439, 681, 83, 765, 738, 709, 207, 23, 444, 375, 719, 315, 421, 587, 477, 956, 970, 222, 686, 464, 487, 781, 986, 91, 260, 40, 390, 369, 448, 671, 620, 426, 215, 978, 645, 5, 878, 63, 157, 128, 820, 43, 599, 152, 98, 413, 639, 437, 259, 233, 997, 895, 338, 623, 627, 294, 569, 628, 502, 924, 537, 828, 825, 225, 373, 174, 460, 67, 93, 76, 242, 324, 715, 218, 528, 577, 662, 276, 989, 251, 35, 811, 255, 717, 60, 61, 859, 779, 998, 62, 21, 575, 364, 148, 660, 335, 220, 729, 511, 323, 909, 237, 266, 695, 552, 4, 763, 449, 743, 102, 772, 458, 794, 831, 603, 716, 451, 830, 488, 214, 525, 104, 290, 39, 663, 136, 926, 492, 955, 670, 617, 18, 710, 761, 858, 396, 219, 676, 463, 357, 74, 159, 404, 987, 641, 108, 109, 974, 887, 277, 718, 977, 316, 273, 780, 371, 872, 144, 988, 88, 821, 694, 205, 430, 283, 417, 395, 481, 607, 134, 576, 115, 834, 891, 565, 299, 187, 320, 200, 847, 397, 186, 540, 392, 835, 778, 952, 734, 32, 649, 257, 898, 22, 455, 416, 291, 903, 358, 374, 334, 791, 234, 126, 776, 252, 697, 87, 773, 600, 807, 968, 777, 656, 650, 539, 939, 411, 147, 685, 533, 529, 541, 687, 414, 606, 155, 192, 496, 938, 674, 351, 195, 785, 700, 692, 268, 871, 680, 407, 905, 194, 703, 145, 66, 991, 699, 637, 806, 223, 355, 757, 185, 19, 475, 203, 9, 849, 429, 769, 28, 229, 113, 49, 287, 957, 611, 312, 999, 340, 314, 271, 536, 784, 632, 654, 354, 696, 814, 653, 578, 735, 966, 8, 29, 531, 193, 457, 766, 344, 210, 651, 586, 97, 652, 824, 815, 359, 727, 866, 894, 868, 209, 544, 135, 622, 554, 522, 436, 736, 744, 454, 889, 946, 929, 70, 770, 538, 668, 590, 85, 864, 69, 582, 550, 657, 848, 642, 54, 708, 84, 810, 819, 788, 336, 482, 584, 994, 329, 30, 166, 497, 870, 68, 38, 401, 783, 845, 499, 272, 154, 532, 867, 546, 801, 377, 418, 947, 453, 916, 465, 941, 574, 712, 248, 484, 678, 238, 636, 981, 132, 118, 707, 876, 521, 572, 372, 353, 992, 101, 25, 382, 175, 886, 280, 96, 899, 17, 86, 682, 246, 625, 380, 752, 386, 293, 927, 854, 843, 728, 7, 549, 534, 530, 20, 748, 930, 498, 466, 629, 640, 433, 250, 176, 524, 875, 689, 672, 337, 721, 441, 921, 861, 812, 261, 160, 648, 403, 724, 983, 513, 733, 822, 133, 805, 343, 295, 270, 24, 507, 90, 597, 804, 162, 755, 500, 231, 573, 461, 57, 760, 494, 644, 94, 227, 486, 580, 790, 112, 224, 759, 918, 208, 862, 164, 883, 27, 267, 42, 561, 121, 221, 583, 489, 256, 305, 908, 483, 435, 198, 456, 971, 570, 163, 944, 827, 485, 579, 258, 860, 976, 1, 438, 566, 990, 179, 945, 196, 141, 442, 111, 762, 468, 362, 473, 190, 168, 940, 705, 505, 245, 15, 714, 470, 480, 722, 282, 122, 284, 309, 896, 562, 942, 526, 72, 363, 278, 289, 226, 919, 286, 910, 232, 495, 884, 356, 634, 754, 332, 36, 37, 180, 181, 360, 361, 900, 901, 948, 949, 958, 959, 960, 961, 643, 142, 303, 378, 140, 559, 213, 78, 677, 394, 342, 183, 913, 249, 240, 985, 844, 274, 963, 432, 16, 110, 836, 139, 771, 664, 479, 655, 328, 44, 12, 581, 610, 202, 151, 879, 568, 962, 954, 517, 3, 646, 563, 296, 980, 911, 920, 897, 551, 626, 288, 593, 881, 48, 793, 125, 51, 173, 279, 564, 873, 612, 206, 47, 452, 412, 236, 253, 156, 55, 493, 892, 840, 808, 52, 476, 264, 557, 869, 965, 982, 548, 624, 509, 46, 841, 996, 914, 318, 26, 907, 341, 635, 826, 184, 588, 613, 725, 447, 381, 838, 556, 598, 170, 666, 434, 950, 618, 774, 45, 621, 800, 935, 591, 65, 281, 478, 782, 842, 349, 172, 951, 877, 933, 691, 146, 306, 244, 936, 103, 10, 491, 275, 409, 408, 450, 638, 307, 158, 388, 204, 904, 79, 171, 690, 510, 647, 792, 106, 516, 915, 0, 874, 188, 888, 609, 922, 912, 100, 425, 934, 732, 50, 228, 667, 14, 114, 376, 855, 932, 230, 742, 683, 758, 893, 428, 837, 292, 350, 535, 34, 178, 370, 798, 741, 890, 616, 120, 750, 964, 138, 352, 786, 747, 406, 387, 400, 469, 385, 698, 410, 943, 169, 979, 852, 490, 740, 706, 832, 520, 298, 348, 308, 13, 723, 301, 440, 384, 422, 420, 319, 720, 756, 241, 846, 880, 2, 446, 333, 906, 116, 56, 512, 399, 150, 304, 191, 857, 64, 560, 182, 856, 322, 984, 302, 6, 592, 423, 398, 688, 310, 928, 366, 558, 124, 462, 402, 472, 746, 608, 300, 596, 424, 504]\n"
     ]
    }
   ],
   "source": [
    "print d3"
   ]
  },
  {
   "cell_type": "code",
   "execution_count": 93,
   "metadata": {
    "collapsed": false
   },
   "outputs": [
    {
     "name": "stdout",
     "output_type": "stream",
     "text": [
      "[661, 243, 605, 553, 518, 501, 346, 797, 161, 817, 839, 217, 973, 619, 143, 937, 503, 11, 53, 633, 137, 972, 199, 265, 365, 684, 818, 885, 589, 753, 865, 149, 995, 863, 789, 297, 594, 379, 89, 745, 445, 431, 41, 73, 129, 630, 711, 749, 427, 347, 130, 967, 235, 601, 82, 595, 474, 311, 467, 326, 585, 925, 95, 882, 269, 107, 197, 92, 679, 59, 567, 917, 81, 119, 313, 515, 731, 953, 131, 389, 829, 658, 415, 99, 443, 508, 669, 393, 775, 459, 726, 165, 851, 211, 713, 833, 331, 383, 212, 931, 153, 391, 701, 614, 321, 737, 571, 542, 975, 796, 339, 105, 75, 604, 167, 117, 602, 325, 285, 850, 659, 71, 514, 263, 767, 631, 527, 177, 201, 853, 317, 764, 803, 739, 902, 405, 615, 225, 620, 543, 702, 345, 247, 813, 802, 719, 330, 367, 993, 448, 681, 730, 665, 768, 523, 969, 519, 471, 421, 152, 555, 923, 327, 80, 239, 547, 419, 58, 189, 823, 825, 799, 254, 693, 751, 956, 439, 33, 5, 127, 545, 989, 924, 809, 31, 368, 569, 77, 315, 623, 675, 207, 781, 222, 795, 709, 487, 216, 123, 477, 765, 373, 779, 671, 63, 673, 93, 639, 717, 260, 444, 40, 60, 464, 91, 214, 157, 43, 426, 738, 259, 820, 23, 895, 575, 98, 878, 978, 787, 816, 828, 62, 220, 528, 603, 449, 660, 369, 686, 772, 242, 859, 970, 997, 335, 338, 35, 460, 506, 909, 255, 83, 294, 233, 627, 986, 358, 811, 715, 237, 645, 794, 251, 599, 174, 32, 262, 761, 413, 831, 998, 104, 128, 324, 743, 577, 830, 704, 488, 404, 126, 109, 215, 587, 67, 729, 76, 320, 290, 390, 552, 662, 102, 628, 148, 670, 375, 821, 437, 283, 276, 136, 218, 525, 397, 502, 695, 734, 968, 617, 955, 395, 694, 4, 21, 716, 451, 537, 858, 791, 891, 417, 481, 351, 458, 987, 414, 894, 492, 710, 200, 889, 663, 700, 364, 66, 39, 155, 61, 939, 144, 511, 88, 463, 576, 316, 763, 814, 22, 159, 834, 938, 277, 416, 687, 396, 18, 898, 430, 291, 70, 727, 334, 835, 780, 777, 649, 357, 147, 903, 988, 641, 457, 74, 134, 407, 266, 219, 234, 223, 323, 606, 680, 699, 994, 977, 871, 926, 815, 49, 676, 195, 187, 887, 565, 185, 115, 354, 203, 299, 607, 757, 692, 108, 392, 600, 9, 145, 872, 656, 522, 868, 429, 974, 697, 847, 209, 696, 287, 685, 257, 785, 952, 773, 19, 411, 68, 475, 541, 374, 97, 586, 632, 637, 651, 135, 355, 769, 496, 314, 712, 824, 810, 778, 735, 540, 776, 533, 590, 271, 497, 578, 770, 991, 252, 210, 682, 192, 807, 87, 28, 905, 539, 674, 371, 529, 611, 870, 193, 653, 946, 848, 312, 652, 205, 744, 455, 992, 380, 703, 344, 550, 69, 766, 650, 229, 20, 957, 466, 186, 718, 546, 273, 536, 929, 721, 819, 864, 531, 642, 999, 554, 84, 329, 482, 532, 784, 574, 544, 8, 484, 806, 854, 849, 866, 246, 788, 166, 886, 941, 918, 29, 584, 728, 867, 801, 453, 436, 668, 38, 441, 736, 272, 25, 268, 96, 248, 154, 876, 280, 498, 755, 359, 966, 17, 582, 947, 401, 85, 377, 678, 654, 538, 227, 295, 861, 549, 337, 629, 113, 499, 164, 981, 7, 622, 843, 86, 175, 752, 822, 336, 208, 282, 238, 386, 382, 708, 513, 707, 132, 672, 927, 916, 340, 689, 748, 293, 118, 930, 353, 403, 42, 862, 705, 636, 435, 36, 37, 180, 181, 360, 361, 900, 901, 948, 949, 958, 959, 960, 961, 461, 176, 418, 343, 570, 372, 579, 44, 112, 194, 648, 465, 783, 733, 572, 54, 714, 845, 971, 573, 919, 521, 644, 566, 760, 561, 657, 30, 583, 625, 640, 198, 899, 507, 362, 305, 724, 221, 884, 483, 634, 454, 162, 597, 580, 438, 480, 94, 261, 759, 1, 530, 101, 505, 341, 456, 812, 224, 190, 804, 790, 493, 250, 913, 90, 860, 442, 875, 111, 983, 249, 945, 500, 942, 142, 258, 910, 256, 883, 470, 754, 342, 494, 284, 332, 133, 908, 179, 160, 564, 296, 274, 976, 122, 593, 489, 911, 944, 15, 196, 140, 213, 433, 52, 677, 270, 963, 990, 232, 524, 226, 534, 309, 231, 57, 434, 473, 378, 121, 141, 921, 881, 78, 202, 356, 363, 139, 289, 286, 168, 303, 51, 184, 996, 827, 655, 495, 267, 951, 643, 24, 879, 581, 762, 562, 771, 626, 328, 610, 920, 491, 245, 281, 940, 509, 808, 485, 624, 844, 517, 412, 206, 935, 27, 479, 240, 805, 388, 151, 103, 278, 72, 447, 962, 896, 253, 526, 612, 173, 841, 163, 486, 432, 468, 836, 936, 646, 45, 559, 842, 46, 12, 888, 172, 563, 907, 452, 873, 551, 394, 288, 591, 664, 47, 635, 725, 954, 965, 897, 840, 3, 26, 892, 618, 548, 264, 980, 14, 793, 838, 782, 306, 985, 666, 877, 55, 125, 556, 279, 557, 869, 478, 722, 183, 568, 376, 638, 79, 204, 275, 16, 476, 381, 110, 588, 450, 428, 691, 613, 621, 904, 932, 408, 950, 774, 50, 667, 65, 914, 156, 146, 349, 609, 800, 158, 244, 406, 425, 933, 318, 826, 48, 170, 516, 982, 922, 855, 510, 114, 758, 100, 837, 10, 598, 370, 171, 350, 0, 409, 230, 943, 792, 307, 410, 890, 236, 34, 934, 188, 400, 915, 120, 747, 912, 535, 292, 384, 683, 740, 846, 741, 874, 387, 979, 742, 690, 732, 647, 446, 893, 348, 798, 964, 352, 106, 706, 169, 520, 750, 786, 385, 228, 138, 469, 13, 832, 852, 178, 319, 616, 191, 422, 857, 723, 301, 308, 698, 490, 420, 984, 298, 150, 56, 756, 399, 182, 333, 322, 241, 880, 116, 6, 440, 560, 124, 856, 64, 906, 688, 398, 512, 423, 402, 304, 720, 310, 746, 592, 558, 2, 424, 366, 928, 608, 302, 472, 596, 300, 462, 504]\n"
     ]
    }
   ],
   "source": [
    "print d2"
   ]
  },
  {
   "cell_type": "code",
   "execution_count": null,
   "metadata": {
    "collapsed": true
   },
   "outputs": [],
   "source": []
  }
 ],
 "metadata": {
  "kernelspec": {
   "display_name": "Python 2",
   "language": "python",
   "name": "python2"
  },
  "language_info": {
   "codemirror_mode": {
    "name": "ipython",
    "version": 2
   },
   "file_extension": ".py",
   "mimetype": "text/x-python",
   "name": "python",
   "nbconvert_exporter": "python",
   "pygments_lexer": "ipython2",
   "version": "2.7.6"
  }
 },
 "nbformat": 4,
 "nbformat_minor": 1
}
