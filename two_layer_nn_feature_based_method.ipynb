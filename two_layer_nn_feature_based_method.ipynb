{
 "cells": [
  {
   "cell_type": "code",
   "execution_count": 1,
   "metadata": {
    "collapsed": true
   },
   "outputs": [],
   "source": [
    "\"\"\"\n",
    "This file contained the feature-based similarity search method using two-layer neural network\n",
    "\n",
    "Created by Zexi Chen(zchen22)\n",
    "Date: Oct 2, 2016\n",
    "\"\"\"\n",
    "\n",
    "import numpy\n",
    "import six.moves.cPickle as pickle\n",
    "import tensorflow as tf\n",
    "import matplotlib.pyplot as plt\n",
    "import math\n",
    "\n",
    "from Feature_based_similarity_search import loadData, dtw, euclideanDist, NeuNet\n",
    "%matplotlib inline"
   ]
  },
  {
   "cell_type": "code",
   "execution_count": 2,
   "metadata": {
    "collapsed": true
   },
   "outputs": [],
   "source": [
    "# read the data and rescale to 0-1\n",
    "train_set = loadData('../theano/data/samples1')\n",
    "valid_set = loadData('../theano/data/samples2')\n",
    "test_set = loadData('../theano/data/samples3')\n",
    "\n",
    "# reshape the array, concatenate two time series as one training instance\n",
    "train_set_reshape = numpy.reshape(train_set, (train_set.shape[0]/2, train_set.shape[1]*2))\n",
    "valid_set_reshape = numpy.reshape(valid_set, (valid_set.shape[0]/2, valid_set.shape[1]*2))\n",
    "test_set_reshape = numpy.reshape(test_set, (test_set.shape[0]/2, test_set.shape[1]*2))\n",
    "\n",
    "# re-scale input data\n",
    "train_set1 = train_set_reshape/255.0\n",
    "valid_set1 = valid_set_reshape/255.0\n",
    "test_set1 = test_set_reshape/255.0"
   ]
  },
  {
   "cell_type": "code",
   "execution_count": 3,
   "metadata": {
    "collapsed": true
   },
   "outputs": [],
   "source": [
    "def generateTrainData(train_set, numInstance):\n",
    "    sampleIndices = numpy.random.choice(train_set.shape[0], 2 * numInstance)\n",
    "    train_set_samples = train_set[sampleIndices]\n",
    "    train_set_reshape = numpy.reshape(train_set_samples, (train_set_samples.shape[0]/2, train_set_samples.shape[1]*2))\n",
    "    train_set1 = train_set_reshape/255.0\n",
    "    train_dtws = numpy.zeros((train_set1.shape[0],1))\n",
    "    for i in range(train_set1.shape[0]):\n",
    "        train_dtws[i,0] = dtw(train_set1[i,0:23], train_set1[i,23:])**2\n",
    "    \n",
    "    return train_set1, train_dtws"
   ]
  },
  {
   "cell_type": "code",
   "execution_count": 4,
   "metadata": {
    "collapsed": true
   },
   "outputs": [],
   "source": [
    "# calculate the squared dtw distance between the two time series in each row of the training data validation data and test data \n",
    "# the dtw is used in the cost function as the target value to minimize.\n",
    "train_dtws = numpy.zeros((train_set1.shape[0],1))\n",
    "for i in range(train_set1.shape[0]):\n",
    "    train_dtws[i,0] = dtw(train_set1[i,0:23], train_set1[i,23:])**2\n",
    "\n",
    "valid_dtws = numpy.zeros((valid_set1.shape[0],1))\n",
    "for i in range(valid_set1.shape[0]):\n",
    "    valid_dtws[i,0] = dtw(valid_set1[i,0:23], valid_set1[i,23:])**2\n",
    "\n",
    "test_dtws = numpy.zeros((test_set1.shape[0],1))\n",
    "for i in range(test_set1.shape[0]):\n",
    "    test_dtws[i,0] = dtw(test_set1[i,0:23], test_set1[i,23:])**2"
   ]
  },
  {
   "cell_type": "code",
   "execution_count": 5,
   "metadata": {
    "collapsed": false
   },
   "outputs": [],
   "source": [
    "# build the neural network model\n",
    "# start the tensorflow interaction interface\n",
    "sess = tf.InteractiveSession()"
   ]
  },
  {
   "cell_type": "code",
   "execution_count": 6,
   "metadata": {
    "collapsed": false
   },
   "outputs": [],
   "source": [
    "n_hiddens = [100,50]\n",
    "learning_rate = [1e-2]\n",
    "training_epochs = 10000\n",
    "\n",
    "# create two variable placehold, x for the training features, \n",
    "# y for the labels(in this model it is the dtw distance between two time series)\n",
    "x = tf.placeholder(tf.float32, shape=[None, train_set.shape[1]*2])\n",
    "y = tf.placeholder(tf.float32, shape=[None, 1])\n",
    "\n",
    "nn1 = NeuNet(\n",
    "    None,\n",
    "    None,\n",
    "    input = x,\n",
    "    activation = tf.nn.sigmoid,\n",
    "    n_visible = train_set.shape[1]*2,\n",
    "    n_hidden =  n_hiddens[0]\n",
    ")\n",
    "\n",
    "nn2 = NeuNet(\n",
    "    None,\n",
    "    None,\n",
    "    input = nn1.output,\n",
    "    activation = tf.nn.sigmoid,\n",
    "    n_visible = n_hiddens[0]*2,\n",
    "    n_hidden = n_hiddens[1]\n",
    ")"
   ]
  },
  {
   "cell_type": "code",
   "execution_count": 8,
   "metadata": {
    "collapsed": true
   },
   "outputs": [],
   "source": [
    "# compute the cost and minimize it\n",
    "cost = nn2.cost_function(y)\n",
    "train_step = tf.train.AdamOptimizer(learning_rate[0]).minimize(cost)\n",
    "\n",
    "sess.run(tf.initialize_all_variables())"
   ]
  },
  {
   "cell_type": "code",
   "execution_count": 9,
   "metadata": {
    "collapsed": false
   },
   "outputs": [
    {
     "name": "stdout",
     "output_type": "stream",
     "text": [
      "step 0, the mean error of the training data 1538.73, vilidation data 16.3377\n",
      "step 100, the mean error of the training data 724.258, vilidation data 13.014\n",
      "step 200, the mean error of the training data 598.215, vilidation data 11.7895\n",
      "step 300, the mean error of the training data 646.972, vilidation data 11.8228\n",
      "step 400, the mean error of the training data 536.198, vilidation data 10.7018\n",
      "step 500, the mean error of the training data 712.139, vilidation data 11.1575\n",
      "step 600, the mean error of the training data 660.817, vilidation data 10.9014\n",
      "step 700, the mean error of the training data 563.082, vilidation data 10.984\n",
      "step 800, the mean error of the training data 596.907, vilidation data 11.0111\n",
      "step 900, the mean error of the training data 702.305, vilidation data 11.0759\n",
      "step 1000, the mean error of the training data 761.268, vilidation data 10.9947\n",
      "step 1100, the mean error of the training data 636.86, vilidation data 11.2117\n",
      "step 1200, the mean error of the training data 599.924, vilidation data 10.6087\n",
      "step 1300, the mean error of the training data 593.957, vilidation data 10.4754\n",
      "step 1400, the mean error of the training data 793.672, vilidation data 10.7931\n",
      "step 1500, the mean error of the training data 538.35, vilidation data 11.302\n",
      "step 1600, the mean error of the training data 666.61, vilidation data 10.8509\n",
      "step 1700, the mean error of the training data 823.684, vilidation data 10.6821\n",
      "step 1800, the mean error of the training data 652.123, vilidation data 10.6923\n",
      "step 1900, the mean error of the training data 610.136, vilidation data 10.9115\n",
      "step 2000, the mean error of the training data 528.118, vilidation data 10.7779\n",
      "step 2100, the mean error of the training data 610.073, vilidation data 11.0282\n",
      "step 2200, the mean error of the training data 541.482, vilidation data 10.6166\n",
      "step 2300, the mean error of the training data 696.008, vilidation data 10.3736\n",
      "step 2400, the mean error of the training data 605.76, vilidation data 10.7359\n",
      "step 2500, the mean error of the training data 692.065, vilidation data 10.7783\n",
      "step 2600, the mean error of the training data 604.025, vilidation data 10.2136\n",
      "step 2700, the mean error of the training data 587.83, vilidation data 11.3511\n",
      "step 2800, the mean error of the training data 615.255, vilidation data 10.6456\n",
      "step 2900, the mean error of the training data 498.663, vilidation data 10.7854\n",
      "step 3000, the mean error of the training data 440.371, vilidation data 10.6101\n",
      "step 3100, the mean error of the training data 712.769, vilidation data 10.4968\n",
      "step 3200, the mean error of the training data 619.835, vilidation data 10.6397\n",
      "step 3300, the mean error of the training data 443.307, vilidation data 10.6112\n",
      "step 3400, the mean error of the training data 503.029, vilidation data 10.2062\n",
      "step 3500, the mean error of the training data 653.609, vilidation data 9.75982\n",
      "step 3600, the mean error of the training data 596.549, vilidation data 9.13027\n",
      "step 3700, the mean error of the training data 370.617, vilidation data 9.32811\n",
      "step 3800, the mean error of the training data 706.606, vilidation data 9.67486\n",
      "step 3900, the mean error of the training data 544.864, vilidation data 9.59556\n",
      "step 4000, the mean error of the training data 652.279, vilidation data 9.68334\n",
      "step 4100, the mean error of the training data 678.422, vilidation data 9.0961\n",
      "step 4200, the mean error of the training data 719.325, vilidation data 9.13456\n",
      "step 4300, the mean error of the training data 631.528, vilidation data 9.12621\n",
      "step 4400, the mean error of the training data 797.328, vilidation data 9.68539\n",
      "step 4500, the mean error of the training data 599.47, vilidation data 9.6254\n",
      "step 4600, the mean error of the training data 667.862, vilidation data 9.36985\n",
      "step 4700, the mean error of the training data 698.269, vilidation data 9.06468\n",
      "step 4800, the mean error of the training data 528.159, vilidation data 9.09686\n",
      "step 4900, the mean error of the training data 627.299, vilidation data 9.67068\n",
      "step 5000, the mean error of the training data 610.205, vilidation data 9.46306\n",
      "step 5100, the mean error of the training data 462.217, vilidation data 8.88496\n",
      "step 5200, the mean error of the training data 825.931, vilidation data 9.98198\n",
      "step 5300, the mean error of the training data 675.124, vilidation data 9.21012\n",
      "step 5400, the mean error of the training data 640.398, vilidation data 9.70983\n",
      "step 5500, the mean error of the training data 748.49, vilidation data 9.131\n",
      "step 5600, the mean error of the training data 650.214, vilidation data 9.68972\n",
      "step 5700, the mean error of the training data 448.99, vilidation data 9.51011\n",
      "step 5800, the mean error of the training data 689.409, vilidation data 8.82356\n",
      "step 5900, the mean error of the training data 633.503, vilidation data 10.1827\n",
      "step 6000, the mean error of the training data 629.215, vilidation data 9.17151\n",
      "step 6100, the mean error of the training data 599.709, vilidation data 9.27096\n",
      "step 6200, the mean error of the training data 641.354, vilidation data 9.87693\n",
      "step 6300, the mean error of the training data 508.211, vilidation data 9.06156\n",
      "step 6400, the mean error of the training data 515.601, vilidation data 10.1886\n",
      "step 6500, the mean error of the training data 550.251, vilidation data 10.3736\n",
      "step 6600, the mean error of the training data 624.831, vilidation data 9.52717\n",
      "step 6700, the mean error of the training data 766.505, vilidation data 9.07958\n",
      "step 6800, the mean error of the training data 549.57, vilidation data 9.64743\n",
      "step 6900, the mean error of the training data 657.35, vilidation data 10.4713\n",
      "step 7000, the mean error of the training data 565.68, vilidation data 9.57028\n",
      "step 7100, the mean error of the training data 582.188, vilidation data 9.5689\n",
      "step 7200, the mean error of the training data 862.723, vilidation data 9.77171\n",
      "step 7300, the mean error of the training data 632.32, vilidation data 9.40477\n",
      "step 7400, the mean error of the training data 744.204, vilidation data 9.77415\n",
      "step 7500, the mean error of the training data 439.758, vilidation data 9.14421\n",
      "step 7600, the mean error of the training data 611.375, vilidation data 9.40779\n",
      "step 7700, the mean error of the training data 662.427, vilidation data 9.52904\n",
      "step 7800, the mean error of the training data 531.29, vilidation data 9.20603\n",
      "step 7900, the mean error of the training data 709.681, vilidation data 8.96335\n",
      "step 8000, the mean error of the training data 596.794, vilidation data 8.73207\n",
      "step 8100, the mean error of the training data 699.958, vilidation data 10.0321\n",
      "step 8200, the mean error of the training data 504.839, vilidation data 9.37696\n",
      "step 8300, the mean error of the training data 690.394, vilidation data 8.94598\n",
      "step 8400, the mean error of the training data 898.374, vilidation data 9.60793\n",
      "step 8500, the mean error of the training data 624.709, vilidation data 9.56779\n",
      "step 8600, the mean error of the training data 733.01, vilidation data 9.00886\n",
      "step 8700, the mean error of the training data 502.88, vilidation data 9.18867\n",
      "step 8800, the mean error of the training data 674.497, vilidation data 9.63531\n",
      "step 8900, the mean error of the training data 848.623, vilidation data 9.30994\n",
      "step 9000, the mean error of the training data 570.315, vilidation data 9.69716\n",
      "step 9100, the mean error of the training data 556.349, vilidation data 9.12105\n",
      "step 9200, the mean error of the training data 788.295, vilidation data 10.2465\n",
      "step 9300, the mean error of the training data 516.582, vilidation data 8.57309\n",
      "step 9400, the mean error of the training data 979.329, vilidation data 9.11305\n",
      "step 9500, the mean error of the training data 587.566, vilidation data 9.07209\n",
      "step 9600, the mean error of the training data 747.277, vilidation data 10.1338\n",
      "step 9700, the mean error of the training data 782.412, vilidation data 9.6762\n",
      "step 9800, the mean error of the training data 674.594, vilidation data 9.67767\n",
      "step 9900, the mean error of the training data 581.64, vilidation data 9.77381\n"
     ]
    }
   ],
   "source": [
    "# run the model\n",
    "train_error = []\n",
    "valid_error = []\n",
    "best_valid_error = numpy.inf\n",
    "numInstance = 1000\n",
    "for i in range(training_epochs):\n",
    "    sample_train_set, sample_train_dtws = generateTrainData(train_set, numInstance)\n",
    "    #sess.run([train_step], feed_dict={x:train_set1, y:train_dtws})\n",
    "    sess.run([train_step], feed_dict={x:sample_train_set, y:sample_train_dtws})\n",
    "    if i%100 == 0:\n",
    "        #train_err = sess.run([cost],feed_dict={x:train_set1, y:train_dtws})\n",
    "        train_err = sess.run([cost],feed_dict={x:sample_train_set, y:sample_train_dtws})\n",
    "        train_error.append(train_err)\n",
    "        valid_err = sess.run([cost],feed_dict={x:valid_set1, y:valid_dtws})\n",
    "        valid_error.append(valid_err)\n",
    "        print(\"step %d, the mean error of the training data %g, vilidation data %g\"%(i, train_error[-1][0], valid_error[-1][0]))\n",
    "        #print h_conv1_flat.eval(feed_dict={x:test_set1})\n",
    "        if valid_error[-1][0] < best_valid_error * 0.995:\n",
    "            W_1 = sess.run(nn1.W)\n",
    "            b_1 = sess.run(nn1.b)\n",
    "            W_2 = sess.run(nn2.W)\n",
    "            b_2 = sess.run(nn2.b)\n",
    "            best_valid_error = valid_error[-1][0]"
   ]
  },
  {
   "cell_type": "code",
   "execution_count": 32,
   "metadata": {
    "collapsed": false
   },
   "outputs": [
    {
     "data": {
      "image/png": "[encoded data removed]",
      "text/plain": [
       "<matplotlib.figure.Figure at 0x7f0579ac1cd0>"
      ]
     },
     "metadata": {},
     "output_type": "display_data"
    }
   ],
   "source": [
    "# plot the training error and validation error\n",
    "Xaxis = [x * 100 for x in range(training_epochs/100)]\n",
    "plt.plot(Xaxis, train_error, 'r',label='train error')\n",
    "plt.plot(Xaxis, valid_error, 'g',label='validation error')\n",
    "plt.show()"
   ]
  },
  {
   "cell_type": "code",
   "execution_count": 33,
   "metadata": {
    "collapsed": true
   },
   "outputs": [],
   "source": [
    "# rescale the test dataset\n",
    "test_set_rescale = test_set/255.0"
   ]
  },
  {
   "cell_type": "code",
   "execution_count": 34,
   "metadata": {
    "collapsed": false
   },
   "outputs": [],
   "source": [
    "# reshape the W matrix to [23,10]\n",
    "W_1_prime = numpy.reshape(W_1,[23, n_hiddens[0]])\n",
    "hidden_1 = sess.run(tf.nn.sigmoid(numpy.matmul(test_set,W_1_prime)+b_1))\n",
    "W_2_prime = numpy.reshape(W_2,[n_hiddens[0], n_hiddens[1]])\n",
    "hidden_2 = tf.nn.sigmoid(numpy.matmul(hidden_1,W_2_prime)+b_2)"
   ]
  },
  {
   "cell_type": "code",
   "execution_count": 35,
   "metadata": {
    "collapsed": true
   },
   "outputs": [],
   "source": [
    "test_features = sess.run(hidden_2)"
   ]
  },
  {
   "cell_type": "code",
   "execution_count": 36,
   "metadata": {
    "collapsed": false
   },
   "outputs": [
    {
     "data": {
      "text/plain": [
       "array([[  7.31389595e-04,   3.00213336e-01,   3.92834803e-08, ...,\n",
       "          5.68614611e-06,   8.96090016e-08,   9.99999995e-01],\n",
       "       [  3.68367495e-03,   4.81400907e-02,   1.47490099e-07, ...,\n",
       "          2.79448862e-04,   7.43867452e-10,   9.99999998e-01],\n",
       "       [  2.15633719e-02,   6.91853551e-01,   7.66902298e-08, ...,\n",
       "          3.49492491e-04,   2.68738344e-07,   9.99999996e-01],\n",
       "       ..., \n",
       "       [  1.03478008e-07,   6.96087231e-03,   3.79815705e-07, ...,\n",
       "          7.08011699e-05,   4.43131962e-08,   1.00000000e+00],\n",
       "       [  2.26550830e-06,   9.88732801e-01,   1.12894150e-12, ...,\n",
       "          4.50474864e-01,   9.47424102e-02,   9.99999959e-01],\n",
       "       [  4.47279438e-03,   9.21517615e-01,   1.66548059e-08, ...,\n",
       "          9.99780025e-01,   8.29811371e-01,   9.99999995e-01]])"
      ]
     },
     "execution_count": 36,
     "metadata": {},
     "output_type": "execute_result"
    }
   ],
   "source": [
    "test_features"
   ]
  },
  {
   "cell_type": "code",
   "execution_count": 44,
   "metadata": {
    "collapsed": true
   },
   "outputs": [],
   "source": [
    "# evaluate function\n",
    "def evaluateFunc(num, ori_set, new_set, nn, nNeighbor=100):\n",
    "    '''\n",
    "        num: the number of sample time series we use to evaluate the performance of our neural network model\n",
    "        ori_set: it is the original dataset\n",
    "        new_set: this is the dataset generated after we perform our neural network model on our original dataset\n",
    "        nn: the number of time series we use to calculate the dtw and euclidean distance\n",
    "        nNeighbor: the number of neighbors we extracted to compare the overlap between dtw and euclidean distances\n",
    "    '''\n",
    "    result = []\n",
    "    for n in range(num):\n",
    "        euclidean_dists = []\n",
    "        dtw_dists = []\n",
    "        for i in range(nn):\n",
    "            dtw_dists.append((i,dtw(ori_set[i], ori_set[nn + n])))\n",
    "            euclidean_dists.append((i, euclideanDist(new_set[i], new_set[nn + n])))\n",
    "        euclidean_dists_sorted = sorted(euclidean_dists, key=(lambda x: x[1]))\n",
    "        dtw_dists_sorted = sorted(dtw_dists, key=(lambda x: x[1]))\n",
    "        euclid_set = set()\n",
    "        dtw_set = set()\n",
    "        for i in range(nNeighbor):\n",
    "            euclid_set.add(euclidean_dists_sorted[i][0])\n",
    "            dtw_set.add(dtw_dists_sorted[i][0])\n",
    "        count = 0\n",
    "        for x in euclid_set:\n",
    "            if x in dtw_set:\n",
    "                count += 1\n",
    "        result.append(float(count)/nNeighbor)\n",
    "    return reduce(lambda x, y: x + y, result)/len(result)"
   ]
  },
  {
   "cell_type": "code",
   "execution_count": 45,
   "metadata": {
    "collapsed": false
   },
   "outputs": [],
   "source": [
    "perform = evaluateFunc(100, test_set_rescale, test_features, 1000)"
   ]
  },
  {
   "cell_type": "code",
   "execution_count": 46,
   "metadata": {
    "collapsed": false
   },
   "outputs": [
    {
     "name": "stdout",
     "output_type": "stream",
     "text": [
      "0.3081\n"
     ]
    }
   ],
   "source": [
    "print perform"
   ]
  },
  {
   "cell_type": "code",
   "execution_count": null,
   "metadata": {
    "collapsed": true
   },
   "outputs": [],
   "source": []
  }
 ],
 "metadata": {
  "kernelspec": {
   "display_name": "Python 2",
   "language": "python",
   "name": "python2"
  },
  "language_info": {
   "codemirror_mode": {
    "name": "ipython",
    "version": 2
   },
   "file_extension": ".py",
   "mimetype": "text/x-python",
   "name": "python",
   "nbconvert_exporter": "python",
   "pygments_lexer": "ipython2",
   "version": "2.7.6"
  }
 },
 "nbformat": 4,
 "nbformat_minor": 1
}
