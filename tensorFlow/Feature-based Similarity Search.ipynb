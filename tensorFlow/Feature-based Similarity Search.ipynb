{
 "cells": [
  {
   "cell_type": "code",
   "execution_count": 1,
   "metadata": {
    "collapsed": true
   },
   "outputs": [],
   "source": [
    "# This file is to implement the designed feature-based similarity distance method\n",
    "# The cost function is defined as the square of discrepancy between DTW of two real time series and Euclidean of the\n",
    "# two time series in new feature space.\n",
    "# Date: 9/21/2016\n",
    "# Author: Zexi Chen(zchen22)"
   ]
  },
  {
   "cell_type": "code",
   "execution_count": 2,
   "metadata": {
    "collapsed": true
   },
   "outputs": [],
   "source": [
    "import numpy\n",
    "import six.moves.cPickle as pickle\n",
    "import tensorflow as tf\n",
    "import matplotlib.pyplot as plt\n",
    "%matplotlib inline"
   ]
  },
  {
   "cell_type": "code",
   "execution_count": 3,
   "metadata": {
    "collapsed": true
   },
   "outputs": [],
   "source": [
    "# samples1 file contains 10000 time series, and each one has 23 time points\n",
    "# It is used as the training data\n",
    "fileObject1 = open('../theano/data/samples1','r')\n",
    "train_set = pickle.load(fileObject1)"
   ]
  },
  {
   "cell_type": "code",
   "execution_count": 4,
   "metadata": {
    "collapsed": true
   },
   "outputs": [],
   "source": [
    "# sample2 file contains 10000 time series, same format\n",
    "# It is used as the validation set\n",
    "fileObject2 = open('../theano/data/samples2','r')\n",
    "valid_set = pickle.load(fileObject2)"
   ]
  },
  {
   "cell_type": "code",
   "execution_count": 5,
   "metadata": {
    "collapsed": true
   },
   "outputs": [],
   "source": [
    "# sample3 file contains 10000 time series served as test data\n",
    "fileObject3 = open('../theano/data/samples3','r')\n",
    "test_set = pickle.load(fileObject3)"
   ]
  },
  {
   "cell_type": "code",
   "execution_count": 6,
   "metadata": {
    "collapsed": false
   },
   "outputs": [
    {
     "data": {
      "text/plain": [
       "array([[ 37,  26,  33,  54,  39, 102, 112, 130, 171, 128, 125, 195, 196,\n",
       "        226, 225, 221, 184, 162, 143, 114, 103, 111, 111],\n",
       "       [ 96,  92,  98,  42,  99,  96, 114, 157, 152, 125, 149, 209, 237,\n",
       "        236, 237, 228, 171, 151, 126, 116, 108,  47, 107],\n",
       "       [ 36,  36,  29,  55,  42,  85,  94, 107, 109, 110, 111, 159, 229,\n",
       "        237, 240, 241, 133, 121, 104,  94,  96,  93,  87],\n",
       "       [ 32,  91,  88,  93,  92,  98,  95, 100, 110, 149, 196, 220, 231,\n",
       "        231, 231, 218, 156, 108,  92,  88,  91,  91,  89]])"
      ]
     },
     "execution_count": 6,
     "metadata": {},
     "output_type": "execute_result"
    }
   ],
   "source": [
    "# visualize the training data\n",
    "train_set[:4]"
   ]
  },
  {
   "cell_type": "code",
   "execution_count": 7,
   "metadata": {
    "collapsed": true
   },
   "outputs": [],
   "source": [
    "# reshape the array, concatenate two time series as one training instance\n",
    "train_set1 = numpy.reshape(train_set, (train_set.shape[0]/2, train_set.shape[1]*2))\n",
    "valid_set1 = numpy.reshape(valid_set, (valid_set.shape[0]/2, valid_set.shape[1]*2))\n",
    "test_set1 = numpy.reshape(test_set, (test_set.shape[0]/2, test_set.shape[1]*2))"
   ]
  },
  {
   "cell_type": "code",
   "execution_count": 8,
   "metadata": {
    "collapsed": false
   },
   "outputs": [
    {
     "data": {
      "text/plain": [
       "array([[ 37,  26,  33,  54,  39, 102, 112, 130, 171, 128, 125, 195, 196,\n",
       "        226, 225, 221, 184, 162, 143, 114, 103, 111, 111,  96,  92,  98,\n",
       "         42,  99,  96, 114, 157, 152, 125, 149, 209, 237, 236, 237, 228,\n",
       "        171, 151, 126, 116, 108,  47, 107],\n",
       "       [ 36,  36,  29,  55,  42,  85,  94, 107, 109, 110, 111, 159, 229,\n",
       "        237, 240, 241, 133, 121, 104,  94,  96,  93,  87,  32,  91,  88,\n",
       "         93,  92,  98,  95, 100, 110, 149, 196, 220, 231, 231, 231, 218,\n",
       "        156, 108,  92,  88,  91,  91,  89]])"
      ]
     },
     "execution_count": 8,
     "metadata": {},
     "output_type": "execute_result"
    }
   ],
   "source": [
    "# visualize the reshaped train data. Every two consecutive rows are concatenated into one row with 46 dimension\n",
    "train_set1[:2]"
   ]
  },
  {
   "cell_type": "code",
   "execution_count": 9,
   "metadata": {
    "collapsed": true
   },
   "outputs": [],
   "source": [
    "# define dtw function\n",
    "def dtw(list1, list2, window = 1):\n",
    "    len1 = len(list1)\n",
    "    len2 = len(list2)\n",
    "    mat = [[float('inf') for x in range(len2 + 1)] for y in range(len1 + 1)]\n",
    "    mat[0][0] = 0\n",
    "    for i in range(1,len1 + 1):\n",
    "        if i - window <= 1:\n",
    "            start = 1\n",
    "        else:\n",
    "            start = i - window\n",
    "        \n",
    "        if i + window <= len2:\n",
    "            end = i + window\n",
    "        else:\n",
    "            end = len2\n",
    "        for j in range(start, end + 1):\n",
    "            cost = abs(float(list1[i - 1] - list2[j - 1]))\n",
    "            mat[i][j] = cost + min(mat[i-1][j], mat[i][j-1],mat[i-1][j-1])\n",
    "        \n",
    "    return mat[len1][len2]"
   ]
  },
  {
   "cell_type": "code",
   "execution_count": 10,
   "metadata": {
    "collapsed": true
   },
   "outputs": [],
   "source": [
    "# define euclidean distance function \n",
    "def euclideanDist(list1,list2):\n",
    "    distance = 0\n",
    "    for x in range(len(list1)):\n",
    "        distance += pow((list1[x]-list2[x]),2)\n",
    "    return math.sqrt(distance)"
   ]
  },
  {
   "cell_type": "code",
   "execution_count": 11,
   "metadata": {
    "collapsed": false
   },
   "outputs": [],
   "source": [
    "# calculate the dtw distance between the two time series in each row of the training data validation data and test data \n",
    "# the dtw is used in the cost function as the target value to minimize\n",
    "train_dtws = numpy.zeros((train_set1.shape[0],1))\n",
    "for i in range(train_set1.shape[0]):\n",
    "    train_dtws[i,0] = dtw(train_set1[i,0:23], train_set1[i,23:])**2\n",
    "    \n",
    "valid_dtws = numpy.zeros((valid_set1.shape[0],1))\n",
    "for i in range(valid_set1.shape[0]):\n",
    "    valid_dtws[i,0] = dtw(valid_set1[i,0:23], valid_set1[i,23:])**2\n",
    "    \n",
    "test_dtws = numpy.zeros((test_set1.shape[0],1))\n",
    "for i in range(test_set1.shape[0]):\n",
    "    test_dtws[i,0] = dtw(test_set1[i,0:23], test_set1[i,23:])**2"
   ]
  },
  {
   "cell_type": "code",
   "execution_count": 45,
   "metadata": {
    "collapsed": false
   },
   "outputs": [
    {
     "name": "stderr",
     "output_type": "stream",
     "text": [
      "Exception AssertionError: AssertionError(\"Nesting violated for default stack of <type 'weakref'> objects\",) in <bound method InteractiveSession.__del__ of <tensorflow.python.client.session.InteractiveSession object at 0x7f388dd707d0>> ignored\n"
     ]
    }
   ],
   "source": [
    "# build the neural network model\n",
    "# start the tensorflow interaction interface\n",
    "sess = tf.InteractiveSession()"
   ]
  },
  {
   "cell_type": "code",
   "execution_count": 46,
   "metadata": {
    "collapsed": true
   },
   "outputs": [],
   "source": [
    "# set the number of nerons in hidden layers\n",
    "numFeatureMaps = 100"
   ]
  },
  {
   "cell_type": "code",
   "execution_count": 47,
   "metadata": {
    "collapsed": false
   },
   "outputs": [],
   "source": [
    "# generate the flow graph. \n",
    "# create two variable placehold, x for the training features, \n",
    "# y for the labels(in this model it is the dtw distance between two time series)\n",
    "x = tf.placeholder(tf.float32, shape=[None, train_set1.shape[1]])\n",
    "y_ = tf.placeholder(tf.float32, shape=[None, 1])"
   ]
  },
  {
   "cell_type": "code",
   "execution_count": 48,
   "metadata": {
    "collapsed": true
   },
   "outputs": [],
   "source": [
    "# define the weight matrix, initialize randomly \n",
    "# truncated_normal: output random values from a truncated normal distribution with value out of 2 sd dropped \n",
    "def weight_variable(shape):\n",
    "    initial = tf.truncated_normal(shape, stddev=0.1)\n",
    "    return tf.Variable(initial)"
   ]
  },
  {
   "cell_type": "code",
   "execution_count": 49,
   "metadata": {
    "collapsed": true
   },
   "outputs": [],
   "source": [
    "# define the bias\n",
    "def bias_variable(shape):\n",
    "    initial = tf.constant(0.1, shape=shape)\n",
    "    return tf.Variable(initial)"
   ]
  },
  {
   "cell_type": "code",
   "execution_count": 50,
   "metadata": {
    "collapsed": true
   },
   "outputs": [],
   "source": [
    "# reshape the training input to comform the CNN model [batch size, width, height, color channels]\n",
    "# x_ts = tf.to_float(x_ts)\n",
    "x_ts = tf.reshape(x, [-1,46,1,1])"
   ]
  },
  {
   "cell_type": "code",
   "execution_count": 51,
   "metadata": {
    "collapsed": true
   },
   "outputs": [],
   "source": [
    "# initialize the weight matrix and the bias\n",
    "# specify the filter size: [filter_width, filter_height, in_channels, out_channels]\n",
    "W_conv1 = weight_variable([23,1,1,numFeatureMaps])\n",
    "b_conv1 = bias_variable([numFeatureMaps])"
   ]
  },
  {
   "cell_type": "code",
   "execution_count": 52,
   "metadata": {
    "collapsed": true
   },
   "outputs": [],
   "source": [
    "# specify the model we use and set up the paratemers\n",
    "def conv2d(x, W):\n",
    "    return tf.nn.conv2d(x, W, strides=[1,23,1,1], padding='SAME')"
   ]
  },
  {
   "cell_type": "code",
   "execution_count": 53,
   "metadata": {
    "collapsed": false
   },
   "outputs": [],
   "source": [
    "# the non-linear function to transfer input to hidden layer\n",
    "h_conv1 = tf.nn.relu(conv2d(x_ts, W_conv1) + b_conv1)"
   ]
  },
  {
   "cell_type": "code",
   "execution_count": 54,
   "metadata": {
    "collapsed": false
   },
   "outputs": [],
   "source": [
    "# define the cost function: (dtw-euclidean(timeseries1 new features, timeseries2 new features))^2\n",
    "h_conv1_flat = tf.reshape(h_conv1,[-1, 2 * numFeatureMaps])\n",
    "h_conv1_flat_diff = tf.square(tf.sub(h_conv1_flat[:,:numFeatureMaps],h_conv1_flat[:,numFeatureMaps:]))\n",
    "cost_function = tf.reduce_mean(tf.square(tf.sub(y_ ,tf.reduce_sum(h_conv1_flat_diff, 1, keep_dims=True))))"
   ]
  },
  {
   "cell_type": "code",
   "execution_count": 55,
   "metadata": {
    "collapsed": true
   },
   "outputs": [],
   "source": [
    "# specify the training optimizer for the model\n",
    "train_step = tf.train.AdamOptimizer(1e-1).minimize(cost_function)"
   ]
  },
  {
   "cell_type": "code",
   "execution_count": 56,
   "metadata": {
    "collapsed": true
   },
   "outputs": [],
   "source": [
    "# initialize the model graph parameters\n",
    "sess.run(tf.initialize_all_variables())"
   ]
  },
  {
   "cell_type": "code",
   "execution_count": 57,
   "metadata": {
    "collapsed": false
   },
   "outputs": [
    {
     "name": "stdout",
     "output_type": "stream",
     "text": [
      "step 0, the mean error of the training data 2.66132e+10, vilidation data 2.72613e+10\n",
      "step 100, the mean error of the training data 2.3087e+09, vilidation data 3.66434e+09\n",
      "step 200, the mean error of the training data 2.06515e+09, vilidation data 3.50882e+09\n",
      "step 300, the mean error of the training data 2.03628e+09, vilidation data 3.60167e+09\n",
      "step 400, the mean error of the training data 1.87544e+09, vilidation data 3.52416e+09\n",
      "step 500, the mean error of the training data 1.85614e+09, vilidation data 3.52477e+09\n",
      "step 600, the mean error of the training data 1.80696e+09, vilidation data 3.59799e+09\n",
      "step 700, the mean error of the training data 1.7415e+09, vilidation data 3.58178e+09\n",
      "step 800, the mean error of the training data 1.80031e+09, vilidation data 3.68136e+09\n",
      "step 900, the mean error of the training data 1.67779e+09, vilidation data 3.63936e+09\n",
      "step 1000, the mean error of the training data 1.66066e+09, vilidation data 3.62467e+09\n",
      "step 1100, the mean error of the training data 1.65407e+09, vilidation data 3.65038e+09\n",
      "step 1200, the mean error of the training data 1.7402e+09, vilidation data 3.89611e+09\n",
      "step 1300, the mean error of the training data 1.69694e+09, vilidation data 3.77665e+09\n",
      "step 1400, the mean error of the training data 1.93718e+09, vilidation data 3.97057e+09\n",
      "step 1500, the mean error of the training data 1.66573e+09, vilidation data 3.8516e+09\n",
      "step 1600, the mean error of the training data 1.64975e+09, vilidation data 3.86057e+09\n",
      "step 1700, the mean error of the training data 1.65982e+09, vilidation data 3.95251e+09\n",
      "step 1800, the mean error of the training data 1.62315e+09, vilidation data 3.90212e+09\n",
      "step 1900, the mean error of the training data 1.62105e+09, vilidation data 3.9557e+09\n",
      "step 2000, the mean error of the training data 1.68654e+09, vilidation data 4.16125e+09\n",
      "step 2100, the mean error of the training data 1.62057e+09, vilidation data 4.03718e+09\n",
      "step 2200, the mean error of the training data 1.64113e+09, vilidation data 3.99982e+09\n",
      "step 2300, the mean error of the training data 1.85163e+09, vilidation data 4.02196e+09\n",
      "step 2400, the mean error of the training data 1.62412e+09, vilidation data 4.06071e+09\n",
      "step 2500, the mean error of the training data 1.62243e+09, vilidation data 4.14472e+09\n",
      "step 2600, the mean error of the training data 1.76656e+09, vilidation data 4.3981e+09\n",
      "step 2700, the mean error of the training data 1.65597e+09, vilidation data 4.22207e+09\n",
      "step 2800, the mean error of the training data 1.58819e+09, vilidation data 4.28354e+09\n",
      "step 2900, the mean error of the training data 1.59412e+09, vilidation data 4.34567e+09\n",
      "step 3000, the mean error of the training data 1.67896e+09, vilidation data 4.37297e+09\n",
      "step 3100, the mean error of the training data 1.64573e+09, vilidation data 4.2888e+09\n",
      "step 3200, the mean error of the training data 1.63235e+09, vilidation data 4.38366e+09\n",
      "step 3300, the mean error of the training data 1.86005e+09, vilidation data 4.42525e+09\n",
      "step 3400, the mean error of the training data 1.64514e+09, vilidation data 4.38651e+09\n",
      "step 3500, the mean error of the training data 1.65071e+09, vilidation data 4.38911e+09\n",
      "step 3600, the mean error of the training data 1.64005e+09, vilidation data 4.55052e+09\n",
      "step 3700, the mean error of the training data 2.04245e+09, vilidation data 4.71487e+09\n",
      "step 3800, the mean error of the training data 2.32433e+09, vilidation data 4.71642e+09\n",
      "step 3900, the mean error of the training data 1.68968e+09, vilidation data 4.48567e+09\n",
      "step 4000, the mean error of the training data 1.75312e+09, vilidation data 4.84861e+09\n",
      "step 4100, the mean error of the training data 1.64337e+09, vilidation data 4.84781e+09\n",
      "step 4200, the mean error of the training data 1.59371e+09, vilidation data 4.74769e+09\n",
      "step 4300, the mean error of the training data 1.67277e+09, vilidation data 4.92018e+09\n",
      "step 4400, the mean error of the training data 1.62352e+09, vilidation data 4.9713e+09\n",
      "step 4500, the mean error of the training data 1.60615e+09, vilidation data 5.13374e+09\n",
      "step 4600, the mean error of the training data 1.61549e+09, vilidation data 5.09798e+09\n",
      "step 4700, the mean error of the training data 1.63633e+09, vilidation data 5.08338e+09\n",
      "step 4800, the mean error of the training data 1.59754e+09, vilidation data 5.32098e+09\n",
      "step 4900, the mean error of the training data 1.58517e+09, vilidation data 5.23734e+09\n",
      "step 5000, the mean error of the training data 1.63059e+09, vilidation data 5.28504e+09\n",
      "step 5100, the mean error of the training data 1.60981e+09, vilidation data 5.14224e+09\n",
      "step 5200, the mean error of the training data 1.62039e+09, vilidation data 5.18427e+09\n",
      "step 5300, the mean error of the training data 1.61407e+09, vilidation data 5.31942e+09\n",
      "step 5400, the mean error of the training data 1.68889e+09, vilidation data 5.1343e+09\n",
      "step 5500, the mean error of the training data 1.57694e+09, vilidation data 5.34635e+09\n",
      "step 5600, the mean error of the training data 1.57681e+09, vilidation data 5.33258e+09\n",
      "step 5700, the mean error of the training data 1.66645e+09, vilidation data 5.15799e+09\n",
      "step 5800, the mean error of the training data 1.6749e+09, vilidation data 5.28861e+09\n",
      "step 5900, the mean error of the training data 1.57356e+09, vilidation data 5.55901e+09\n",
      "step 6000, the mean error of the training data 1.56296e+09, vilidation data 5.5278e+09\n",
      "step 6100, the mean error of the training data 1.59299e+09, vilidation data 5.70479e+09\n",
      "step 6200, the mean error of the training data 1.55453e+09, vilidation data 5.55318e+09\n",
      "step 6300, the mean error of the training data 1.58634e+09, vilidation data 5.55608e+09\n",
      "step 6400, the mean error of the training data 1.61604e+09, vilidation data 5.54962e+09\n",
      "step 6500, the mean error of the training data 1.62001e+09, vilidation data 5.57405e+09\n",
      "step 6600, the mean error of the training data 1.55775e+09, vilidation data 5.9643e+09\n",
      "step 6700, the mean error of the training data 1.55236e+09, vilidation data 5.89995e+09\n",
      "step 6800, the mean error of the training data 1.59689e+09, vilidation data 5.83701e+09\n",
      "step 6900, the mean error of the training data 1.59056e+09, vilidation data 6.06149e+09\n",
      "step 7000, the mean error of the training data 1.674e+09, vilidation data 6.42183e+09\n",
      "step 7100, the mean error of the training data 1.56796e+09, vilidation data 6.32899e+09\n",
      "step 7200, the mean error of the training data 1.55779e+09, vilidation data 6.44966e+09\n",
      "step 7300, the mean error of the training data 1.56323e+09, vilidation data 6.68487e+09\n",
      "step 7400, the mean error of the training data 1.57544e+09, vilidation data 6.69954e+09\n",
      "step 7500, the mean error of the training data 1.57613e+09, vilidation data 6.81962e+09\n",
      "step 7600, the mean error of the training data 1.81993e+09, vilidation data 7.73739e+09\n",
      "step 7700, the mean error of the training data 1.54511e+09, vilidation data 7.45179e+09\n",
      "step 7800, the mean error of the training data 1.79953e+09, vilidation data 8.47342e+09\n",
      "step 7900, the mean error of the training data 1.54184e+09, vilidation data 7.95784e+09\n",
      "step 8000, the mean error of the training data 1.6326e+09, vilidation data 8.04354e+09\n",
      "step 8100, the mean error of the training data 1.55171e+09, vilidation data 8.64008e+09\n",
      "step 8200, the mean error of the training data 1.5632e+09, vilidation data 8.60013e+09\n",
      "step 8300, the mean error of the training data 1.55071e+09, vilidation data 8.39189e+09\n",
      "step 8400, the mean error of the training data 1.59581e+09, vilidation data 8.24005e+09\n",
      "step 8500, the mean error of the training data 1.56509e+09, vilidation data 9.11392e+09\n",
      "step 8600, the mean error of the training data 1.54087e+09, vilidation data 8.9335e+09\n",
      "step 8700, the mean error of the training data 1.56289e+09, vilidation data 8.33707e+09\n",
      "step 8800, the mean error of the training data 1.5619e+09, vilidation data 8.40618e+09\n",
      "step 8900, the mean error of the training data 1.62363e+09, vilidation data 8.41085e+09\n",
      "step 9000, the mean error of the training data 1.59508e+09, vilidation data 9.23438e+09\n",
      "step 9100, the mean error of the training data 1.54704e+09, vilidation data 9.14003e+09\n",
      "step 9200, the mean error of the training data 1.57124e+09, vilidation data 9.14465e+09\n",
      "step 9300, the mean error of the training data 1.91002e+09, vilidation data 8.94638e+09\n",
      "step 9400, the mean error of the training data 1.52282e+09, vilidation data 9.00037e+09\n",
      "step 9500, the mean error of the training data 1.53713e+09, vilidation data 8.83642e+09\n",
      "step 9600, the mean error of the training data 1.55223e+09, vilidation data 9.29727e+09\n",
      "step 9700, the mean error of the training data 1.67161e+09, vilidation data 9.01378e+09\n",
      "step 9800, the mean error of the training data 1.52031e+09, vilidation data 8.9727e+09\n",
      "step 9900, the mean error of the training data 1.59335e+09, vilidation data 8.82928e+09\n"
     ]
    }
   ],
   "source": [
    "# run the model\n",
    "train_error = []\n",
    "valid_error = []\n",
    "training_epochs = 10000\n",
    "best_valid_error = numpy.inf\n",
    "for i in range(training_epochs):\n",
    "    train_step.run(feed_dict={x:train_set1, y_:train_dtws})\n",
    "    if i%100 == 0:\n",
    "        train_err = cost_function.eval(feed_dict={x:train_set1, y_:train_dtws})\n",
    "        train_error.append(train_err)\n",
    "        valid_err = cost_function.eval(feed_dict={x:valid_set1, y_:valid_dtws})\n",
    "        valid_error.append(valid_err)\n",
    "        print(\"step %d, the mean error of the training data %g, vilidation data %g\"%(i, train_error[-1], valid_error[-1]))\n",
    "        #print h_conv1_flat.eval(feed_dict={x:test_set1})\n",
    "        if valid_error[-1] < best_valid_error * 0.995:\n",
    "            W_best = sess.run(W_conv1)\n",
    "            b_best = sess.run(b_conv1)"
   ]
  },
  {
   "cell_type": "code",
   "execution_count": 44,
   "metadata": {
    "collapsed": false
   },
   "outputs": [
    {
     "data": {
      "image/png": "[encoded data removed]",
      "text/plain": [
       "<matplotlib.figure.Figure at 0x7f387c2924d0>"
      ]
     },
     "metadata": {},
     "output_type": "display_data"
    }
   ],
   "source": [
    "Xaxis = [x * 100 for x in range(training_epochs/100)]\n",
    "plt.plot(Xaxis, train_error, 'r',label='train error')\n",
    "plt.plot(Xaxis, valid_error, 'g',label='validation error')\n",
    "plt.show()"
   ]
  },
  {
   "cell_type": "code",
   "execution_count": 37,
   "metadata": {
    "collapsed": false
   },
   "outputs": [
    {
     "name": "stdout",
     "output_type": "stream",
     "text": [
      "Model saved in file: model_param/model.ckpt\n"
     ]
    }
   ],
   "source": [
    "with tf.Session() as sess:\n",
    "  sess.run(tf.initialize_all_variables())\n",
    "  save_path = saver.save(sess, \"model_param/model.ckpt\")\n",
    "  print(\"Model saved in file: %s\" % save_path)"
   ]
  },
  {
   "cell_type": "code",
   "execution_count": 50,
   "metadata": {
    "collapsed": true
   },
   "outputs": [],
   "source": [
    "W_0 = tf.Variable(-1.0, validate_shape=False, name='W_0')\n",
    "b_0 = tf.Variable(-1.0, validate_shape=False, name='b_0')\n",
    "with tf.Session() as session:\n",
    "    saver = tf.train.Saver()\n",
    "    saver.restore(session, \"model_param/model.ckpt\")\n",
    "    print(session.run(tf.all_variables()))"
   ]
  },
  {
   "cell_type": "code",
   "execution_count": 27,
   "metadata": {
    "collapsed": false
   },
   "outputs": [
    {
     "data": {
      "text/plain": [
       "array([[ 468.],\n",
       "       [ 354.],\n",
       "       [ 751.],\n",
       "       ..., \n",
       "       [ 395.],\n",
       "       [ 250.],\n",
       "       [ 295.]])"
      ]
     },
     "execution_count": 27,
     "metadata": {},
     "output_type": "execute_result"
    }
   ],
   "source": []
  },
  {
   "cell_type": "code",
   "execution_count": null,
   "metadata": {
    "collapsed": true
   },
   "outputs": [],
   "source": []
  },
  {
   "cell_type": "code",
   "execution_count": null,
   "metadata": {
    "collapsed": true
   },
   "outputs": [],
   "source": []
  },
  {
   "cell_type": "code",
   "execution_count": null,
   "metadata": {
    "collapsed": true
   },
   "outputs": [],
   "source": []
  },
  {
   "cell_type": "code",
   "execution_count": null,
   "metadata": {
    "collapsed": true
   },
   "outputs": [],
   "source": []
  },
  {
   "cell_type": "code",
   "execution_count": null,
   "metadata": {
    "collapsed": true
   },
   "outputs": [],
   "source": []
  },
  {
   "cell_type": "code",
   "execution_count": 54,
   "metadata": {
    "collapsed": true
   },
   "outputs": [],
   "source": [
    "# redo the method with re-scaled input data, and the input value ranges [0,1]\n",
    "train_set2 = train_set1/255.0\n",
    "valid_set2 = valid_set1/255.0\n",
    "test_set2 = test_set1/255.0"
   ]
  },
  {
   "cell_type": "code",
   "execution_count": 55,
   "metadata": {
    "collapsed": false
   },
   "outputs": [
    {
     "data": {
      "text/plain": [
       "array([[ 0.14509804,  0.10196078,  0.12941176, ...,  0.42352941,\n",
       "         0.18431373,  0.41960784],\n",
       "       [ 0.14117647,  0.14117647,  0.11372549, ...,  0.35686275,\n",
       "         0.35686275,  0.34901961],\n",
       "       [ 0.87843137,  0.22352941,  0.91764706, ...,  0.24313725,\n",
       "         0.95294118,  0.38431373],\n",
       "       ..., \n",
       "       [ 0.1254902 ,  0.14117647,  0.1372549 , ...,  0.38823529,\n",
       "         0.34901961,  0.34509804],\n",
       "       [ 0.19607843,  0.16470588,  0.16862745, ...,  0.36862745,\n",
       "         0.36470588,  0.18039216],\n",
       "       [ 0.28235294,  0.17647059,  0.17254902, ...,  0.34509804,\n",
       "         0.35294118,  0.31764706]])"
      ]
     },
     "execution_count": 55,
     "metadata": {},
     "output_type": "execute_result"
    }
   ],
   "source": [
    "train_set2"
   ]
  },
  {
   "cell_type": "code",
   "execution_count": 58,
   "metadata": {
    "collapsed": true
   },
   "outputs": [],
   "source": [
    "# calculate the dtw distance between the two time series in each row of the training data validation data and test data \n",
    "# the dtw is used in the cost function as the target value to minimize\n",
    "train_dtws2 = numpy.zeros((train_set2.shape[0],1))\n",
    "for i in range(train_set2.shape[0]):\n",
    "    train_dtws2[i,0] = dtw(train_set2[i,0:23], train_set2[i,23:])\n",
    "    \n",
    "valid_dtws2 = numpy.zeros((valid_set2.shape[0],1))\n",
    "for i in range(valid_set2.shape[0]):\n",
    "    valid_dtws2[i,0] = dtw(valid_set2[i,0:23], valid_set2[i,23:])\n",
    "    \n",
    "test_dtws2 = numpy.zeros((test_set2.shape[0],1))\n",
    "for i in range(test_set2.shape[0]):\n",
    "    test_dtws2[i,0] = dtw(test_set2[i,0:23], test_set2[i,23:])"
   ]
  },
  {
   "cell_type": "code",
   "execution_count": null,
   "metadata": {
    "collapsed": true
   },
   "outputs": [],
   "source": [
    "# the non-linear function to transfer input to hidden layer\n",
    "h_conv1 = tf.nn.sigmoid(conv2d(x_ts, W_conv1) + b_conv1)"
   ]
  }
 ],
 "metadata": {
  "kernelspec": {
   "display_name": "Python 2",
   "language": "python",
   "name": "python2"
  },
  "language_info": {
   "codemirror_mode": {
    "name": "ipython",
    "version": 2
   },
   "file_extension": ".py",
   "mimetype": "text/x-python",
   "name": "python",
   "nbconvert_exporter": "python",
   "pygments_lexer": "ipython2",
   "version": "2.7.6"
  }
 },
 "nbformat": 4,
 "nbformat_minor": 1
}
