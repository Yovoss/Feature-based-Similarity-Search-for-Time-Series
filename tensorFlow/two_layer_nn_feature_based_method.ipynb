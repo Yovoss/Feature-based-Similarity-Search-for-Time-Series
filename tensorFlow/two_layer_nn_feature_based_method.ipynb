{
 "cells": [
  {
   "cell_type": "code",
   "execution_count": 13,
   "metadata": {
    "collapsed": true
   },
   "outputs": [],
   "source": [
    "\"\"\"\n",
    "This file contained the feature-based similarity search method using two-layer neural network\n",
    "\n",
    "Created by Zexi Chen(zchen22)\n",
    "Date: Oct 2, 2016\n",
    "\"\"\"\n",
    "\n",
    "import numpy\n",
    "import six.moves.cPickle as pickle\n",
    "import tensorflow as tf\n",
    "import matplotlib.pyplot as plt\n",
    "import math\n",
    "\n",
    "from Feature_based_similarity_search import loadData, dtw, euclideanDist, NeuNet\n",
    "%matplotlib inline"
   ]
  },
  {
   "cell_type": "code",
   "execution_count": 2,
   "metadata": {
    "collapsed": true
   },
   "outputs": [],
   "source": [
    "# read the data and rescale to 0-1\n",
    "train_set = loadData('../theano/data/samples1')\n",
    "valid_set = loadData('../theano/data/samples2')\n",
    "test_set = loadData('../theano/data/samples3')\n",
    "\n",
    "# reshape the array, concatenate two time series as one training instance\n",
    "train_set_reshape = numpy.reshape(train_set, (train_set.shape[0]/2, train_set.shape[1]*2))\n",
    "valid_set_reshape = numpy.reshape(valid_set, (valid_set.shape[0]/2, valid_set.shape[1]*2))\n",
    "test_set_reshape = numpy.reshape(test_set, (test_set.shape[0]/2, test_set.shape[1]*2))\n",
    "\n",
    "# re-scale input data\n",
    "train_set1 = train_set_reshape/255.0\n",
    "valid_set1 = valid_set_reshape/255.0\n",
    "test_set1 = test_set_reshape/255.0"
   ]
  },
  {
   "cell_type": "code",
   "execution_count": 3,
   "metadata": {
    "collapsed": true
   },
   "outputs": [],
   "source": [
    "# calculate the squared dtw distance between the two time series in each row of the training data validation data and test data \n",
    "# the dtw is used in the cost function as the target value to minimize.\n",
    "train_dtws = numpy.zeros((train_set1.shape[0],1))\n",
    "for i in range(train_set1.shape[0]):\n",
    "    train_dtws[i,0] = dtw(train_set1[i,0:23], train_set1[i,23:])**2\n",
    "\n",
    "valid_dtws = numpy.zeros((valid_set1.shape[0],1))\n",
    "for i in range(valid_set1.shape[0]):\n",
    "    valid_dtws[i,0] = dtw(valid_set1[i,0:23], valid_set1[i,23:])**2\n",
    "\n",
    "test_dtws = numpy.zeros((test_set1.shape[0],1))\n",
    "for i in range(test_set1.shape[0]):\n",
    "    test_dtws[i,0] = dtw(test_set1[i,0:23], test_set1[i,23:])**2"
   ]
  },
  {
   "cell_type": "code",
   "execution_count": 4,
   "metadata": {
    "collapsed": true
   },
   "outputs": [],
   "source": [
    "# build the neural network model\n",
    "# start the tensorflow interaction interface\n",
    "sess = tf.InteractiveSession()"
   ]
  },
  {
   "cell_type": "code",
   "execution_count": 49,
   "metadata": {
    "collapsed": false
   },
   "outputs": [],
   "source": [
    "n_hiddens = [100,10]\n",
    "learning_rate = [1e-2]\n",
    "training_epochs = 10000\n",
    "\n",
    "# create two variable placehold, x for the training features, \n",
    "# y for the labels(in this model it is the dtw distance between two time series)\n",
    "x = tf.placeholder(tf.float32, shape=[None, train_set1.shape[1]])\n",
    "y = tf.placeholder(tf.float32, shape=[None, 1])\n",
    "\n",
    "nn1 = NeuNet(\n",
    "    None,\n",
    "    None,\n",
    "    input = x,\n",
    "    activation = tf.nn.sigmoid,\n",
    "    n_visible = train_set1.shape[1],\n",
    "    n_hidden =  n_hiddens[0]\n",
    ")\n",
    "\n",
    "nn2 = NeuNet(\n",
    "    None,\n",
    "    None,\n",
    "    input = nn1.output,\n",
    "    activation = tf.nn.sigmoid,\n",
    "    n_visible = n_hiddens[0]*2,\n",
    "    n_hidden = n_hiddens[1]\n",
    ")"
   ]
  },
  {
   "cell_type": "code",
   "execution_count": 50,
   "metadata": {
    "collapsed": true
   },
   "outputs": [],
   "source": [
    "# compute the cost and minimize it\n",
    "cost = nn2.cost_function(y)\n",
    "train_step = tf.train.AdamOptimizer(learning_rate[0]).minimize(cost)\n",
    "\n",
    "sess.run(tf.initialize_all_variables())"
   ]
  },
  {
   "cell_type": "code",
   "execution_count": 51,
   "metadata": {
    "collapsed": false
   },
   "outputs": [
    {
     "name": "stdout",
     "output_type": "stream",
     "text": [
      "step 0, the mean error of the training data 16.554, vilidation data 16.3431\n",
      "step 100, the mean error of the training data 6.68091, vilidation data 6.51247\n",
      "step 200, the mean error of the training data 5.07931, vilidation data 5.24687\n",
      "step 300, the mean error of the training data 4.72187, vilidation data 4.94978\n",
      "step 400, the mean error of the training data 4.53294, vilidation data 4.81859\n",
      "step 500, the mean error of the training data 4.37997, vilidation data 4.72571\n",
      "step 600, the mean error of the training data 4.2631, vilidation data 4.66389\n",
      "step 700, the mean error of the training data 4.11943, vilidation data 4.59007\n",
      "step 800, the mean error of the training data 3.99915, vilidation data 4.52306\n",
      "step 900, the mean error of the training data 3.87423, vilidation data 4.45973\n",
      "step 1000, the mean error of the training data 3.73585, vilidation data 4.38818\n",
      "step 1100, the mean error of the training data 3.606, vilidation data 4.30715\n",
      "step 1200, the mean error of the training data 3.49004, vilidation data 4.26253\n",
      "step 1300, the mean error of the training data 3.38788, vilidation data 4.23318\n",
      "step 1400, the mean error of the training data 3.28646, vilidation data 4.18449\n",
      "step 1500, the mean error of the training data 3.20377, vilidation data 4.14419\n",
      "step 1600, the mean error of the training data 3.1267, vilidation data 4.11453\n",
      "step 1700, the mean error of the training data 3.0588, vilidation data 4.08655\n",
      "step 1800, the mean error of the training data 2.98828, vilidation data 4.04716\n",
      "step 1900, the mean error of the training data 2.91538, vilidation data 4.01085\n",
      "step 2000, the mean error of the training data 2.85089, vilidation data 3.98153\n",
      "step 2100, the mean error of the training data 2.79475, vilidation data 3.96265\n",
      "step 2200, the mean error of the training data 2.73561, vilidation data 3.95581\n",
      "step 2300, the mean error of the training data 2.69484, vilidation data 3.947\n",
      "step 2400, the mean error of the training data 2.65462, vilidation data 3.94418\n",
      "step 2500, the mean error of the training data 2.61755, vilidation data 3.93543\n",
      "step 2600, the mean error of the training data 2.57896, vilidation data 3.92433\n",
      "step 2700, the mean error of the training data 2.54157, vilidation data 3.91872\n",
      "step 2800, the mean error of the training data 2.51443, vilidation data 3.91851\n",
      "step 2900, the mean error of the training data 2.48438, vilidation data 3.91031\n",
      "step 3000, the mean error of the training data 2.45462, vilidation data 3.90533\n",
      "step 3100, the mean error of the training data 2.42958, vilidation data 3.90348\n",
      "step 3200, the mean error of the training data 2.40681, vilidation data 3.90343\n",
      "step 3300, the mean error of the training data 2.38005, vilidation data 3.90506\n",
      "step 3400, the mean error of the training data 2.35501, vilidation data 3.90146\n",
      "step 3500, the mean error of the training data 2.33353, vilidation data 3.90404\n",
      "step 3600, the mean error of the training data 2.30896, vilidation data 3.90797\n",
      "step 3700, the mean error of the training data 2.28556, vilidation data 3.91064\n",
      "step 3800, the mean error of the training data 2.26282, vilidation data 3.90952\n",
      "step 3900, the mean error of the training data 2.24464, vilidation data 3.90822\n",
      "step 4000, the mean error of the training data 2.22879, vilidation data 3.90975\n",
      "step 4100, the mean error of the training data 2.21283, vilidation data 3.91734\n",
      "step 4200, the mean error of the training data 2.19452, vilidation data 3.92149\n",
      "step 4300, the mean error of the training data 2.18028, vilidation data 3.92593\n",
      "step 4400, the mean error of the training data 2.1614, vilidation data 3.92525\n",
      "step 4500, the mean error of the training data 2.14202, vilidation data 3.93506\n",
      "step 4600, the mean error of the training data 2.12706, vilidation data 3.93733\n",
      "step 4700, the mean error of the training data 2.11372, vilidation data 3.94362\n",
      "step 4800, the mean error of the training data 2.08891, vilidation data 3.94622\n",
      "step 4900, the mean error of the training data 2.07497, vilidation data 3.94187\n",
      "step 5000, the mean error of the training data 2.06379, vilidation data 3.942\n",
      "step 5100, the mean error of the training data 2.0533, vilidation data 3.94423\n",
      "step 5200, the mean error of the training data 2.04029, vilidation data 3.94523\n",
      "step 5300, the mean error of the training data 2.03175, vilidation data 3.94241\n",
      "step 5400, the mean error of the training data 2.02131, vilidation data 3.94612\n",
      "step 5500, the mean error of the training data 2.01398, vilidation data 3.9483\n",
      "step 5600, the mean error of the training data 2.00602, vilidation data 3.95034\n",
      "step 5700, the mean error of the training data 1.99781, vilidation data 3.94958\n",
      "step 5800, the mean error of the training data 1.98773, vilidation data 3.95026\n",
      "step 5900, the mean error of the training data 1.98222, vilidation data 3.94731\n",
      "step 6000, the mean error of the training data 1.97512, vilidation data 3.94984\n",
      "step 6100, the mean error of the training data 1.96843, vilidation data 3.95329\n",
      "step 6200, the mean error of the training data 1.96251, vilidation data 3.95424\n",
      "step 6300, the mean error of the training data 1.95715, vilidation data 3.95705\n",
      "step 6400, the mean error of the training data 1.95127, vilidation data 3.96362\n",
      "step 6500, the mean error of the training data 1.94485, vilidation data 3.96536\n",
      "step 6600, the mean error of the training data 1.93938, vilidation data 3.96904\n",
      "step 6700, the mean error of the training data 1.93488, vilidation data 3.96766\n",
      "step 6800, the mean error of the training data 1.92944, vilidation data 3.971\n",
      "step 6900, the mean error of the training data 1.926, vilidation data 3.97669\n",
      "step 7000, the mean error of the training data 1.91658, vilidation data 3.97739\n",
      "step 7100, the mean error of the training data 1.91205, vilidation data 3.9815\n",
      "step 7200, the mean error of the training data 1.90815, vilidation data 3.98368\n",
      "step 7300, the mean error of the training data 1.90658, vilidation data 3.98164\n",
      "step 7400, the mean error of the training data 1.90063, vilidation data 3.98608\n",
      "step 7500, the mean error of the training data 1.89687, vilidation data 3.98786\n",
      "step 7600, the mean error of the training data 1.89119, vilidation data 3.99039\n",
      "step 7700, the mean error of the training data 1.88554, vilidation data 3.99028\n",
      "step 7800, the mean error of the training data 1.88111, vilidation data 3.99078\n",
      "step 7900, the mean error of the training data 1.87601, vilidation data 3.99286\n",
      "step 8000, the mean error of the training data 1.87234, vilidation data 3.99173\n",
      "step 8100, the mean error of the training data 1.86773, vilidation data 3.99671\n",
      "step 8200, the mean error of the training data 1.86452, vilidation data 3.99608\n",
      "step 8300, the mean error of the training data 1.85994, vilidation data 3.99485\n",
      "step 8400, the mean error of the training data 1.85535, vilidation data 3.99241\n",
      "step 8500, the mean error of the training data 1.85423, vilidation data 3.99419\n",
      "step 8600, the mean error of the training data 1.8499, vilidation data 3.99381\n",
      "step 8700, the mean error of the training data 1.84726, vilidation data 3.9942\n",
      "step 8800, the mean error of the training data 1.84387, vilidation data 3.99781\n",
      "step 8900, the mean error of the training data 1.8397, vilidation data 3.99203\n",
      "step 9000, the mean error of the training data 1.83734, vilidation data 3.99098\n",
      "step 9100, the mean error of the training data 1.83137, vilidation data 3.99152\n",
      "step 9200, the mean error of the training data 1.82929, vilidation data 3.98935\n",
      "step 9300, the mean error of the training data 1.82698, vilidation data 3.98951\n",
      "step 9400, the mean error of the training data 1.8253, vilidation data 3.9873\n",
      "step 9500, the mean error of the training data 1.8234, vilidation data 3.98816\n",
      "step 9600, the mean error of the training data 1.82152, vilidation data 3.98818\n",
      "step 9700, the mean error of the training data 1.81971, vilidation data 3.98714\n",
      "step 9800, the mean error of the training data 1.8195, vilidation data 3.98395\n",
      "step 9900, the mean error of the training data 1.81674, vilidation data 3.97924\n"
     ]
    }
   ],
   "source": [
    "# run the model\n",
    "train_error = []\n",
    "valid_error = []\n",
    "best_valid_error = numpy.inf\n",
    "for i in range(training_epochs):\n",
    "    sess.run([train_step], feed_dict={x:train_set1, y:train_dtws})\n",
    "    if i%100 == 0:\n",
    "        train_err = sess.run([cost],feed_dict={x:train_set1, y:train_dtws})\n",
    "        train_error.append(train_err)\n",
    "        valid_err = sess.run([cost],feed_dict={x:valid_set1, y:valid_dtws})\n",
    "        valid_error.append(valid_err)\n",
    "        print(\"step %d, the mean error of the training data %g, vilidation data %g\"%(i, train_error[-1][0], valid_error[-1][0]))\n",
    "        #print h_conv1_flat.eval(feed_dict={x:test_set1})\n",
    "        if valid_error[-1][0] < best_valid_error * 0.995:\n",
    "            W_1 = sess.run(nn1.W)\n",
    "            b_1 = sess.run(nn1.b)\n",
    "            W_2 = sess.run(nn2.W)\n",
    "            b_2 = sess.run(nn2.b)\n",
    "            best_valid_error = valid_error[-1][0]"
   ]
  },
  {
   "cell_type": "code",
   "execution_count": 52,
   "metadata": {
    "collapsed": false
   },
   "outputs": [
    {
     "data": {
      "image/png": "[encoded data removed]",
      "text/plain": [
       "<matplotlib.figure.Figure at 0x7f56941d0950>"
      ]
     },
     "metadata": {},
     "output_type": "display_data"
    }
   ],
   "source": [
    "# plot the training error and validation error\n",
    "Xaxis = [x * 100 for x in range(training_epochs/100)]\n",
    "plt.plot(Xaxis, train_error, 'r',label='train error')\n",
    "plt.plot(Xaxis, valid_error, 'g',label='validation error')\n",
    "plt.show()"
   ]
  },
  {
   "cell_type": "code",
   "execution_count": 53,
   "metadata": {
    "collapsed": true
   },
   "outputs": [],
   "source": [
    "# rescale the test dataset\n",
    "test_set_rescale = test_set/255.0"
   ]
  },
  {
   "cell_type": "code",
   "execution_count": 54,
   "metadata": {
    "collapsed": false
   },
   "outputs": [],
   "source": [
    "# reshape the W matrix to [23,10]\n",
    "W_1_prime = numpy.reshape(W_1,[23, n_hiddens[0]])\n",
    "hidden_1 = sess.run(tf.nn.sigmoid(numpy.matmul(test_set,W_1_prime)+b_1))\n",
    "W_2_prime = numpy.reshape(W_2,[n_hiddens[0], n_hiddens[1]])\n",
    "hidden_2 = tf.nn.sigmoid(numpy.matmul(hidden_1,W_2_prime)+b_2)"
   ]
  },
  {
   "cell_type": "code",
   "execution_count": 55,
   "metadata": {
    "collapsed": true
   },
   "outputs": [],
   "source": [
    "test_features = sess.run(hidden_2)"
   ]
  },
  {
   "cell_type": "code",
   "execution_count": 70,
   "metadata": {
    "collapsed": false
   },
   "outputs": [
    {
     "data": {
      "text/plain": [
       "array([[  1.16397669e-07,   1.31777271e-03,   1.99405509e-01, ...,\n",
       "          9.99999978e-01,   1.00000000e+00,   7.76016295e-06],\n",
       "       [  7.47261553e-04,   3.82610180e-04,   9.99999977e-01, ...,\n",
       "          1.00000000e+00,   9.99999996e-01,   7.78138190e-01],\n",
       "       [  1.87070623e-09,   3.24778967e-14,   1.00000000e+00, ...,\n",
       "          1.00000000e+00,   1.00000000e+00,   9.64337943e-01],\n",
       "       ..., \n",
       "       [  9.96187019e-01,   9.52355797e-01,   9.99999980e-01, ...,\n",
       "          1.00000000e+00,   9.99991521e-01,   9.99999586e-01],\n",
       "       [  3.34437230e-03,   8.62445490e-11,   2.65457901e-02, ...,\n",
       "          4.89121225e-08,   1.00000000e+00,   1.85822076e-04],\n",
       "       [  1.97823723e-14,   1.91019661e-12,   1.00000000e+00, ...,\n",
       "          9.10287052e-01,   1.00000000e+00,   6.36816465e-01]])"
      ]
     },
     "execution_count": 70,
     "metadata": {},
     "output_type": "execute_result"
    }
   ],
   "source": [
    "test_features"
   ]
  },
  {
   "cell_type": "code",
   "execution_count": 61,
   "metadata": {
    "collapsed": true
   },
   "outputs": [],
   "source": [
    "# for one time series in test dataset, calculate its distance with 1000 time series in test dataset\n",
    "euclidean_dists = []\n",
    "dtw_dists = []\n",
    "for i in range(1000):\n",
    "    dtw_dists.append((i,dtw(test_set_rescale[i], test_set_rescale[-3])))\n",
    "    euclidean_dists.append((i, euclideanDist(test_features[i], test_features[-3])))"
   ]
  },
  {
   "cell_type": "code",
   "execution_count": 62,
   "metadata": {
    "collapsed": true
   },
   "outputs": [],
   "source": [
    "# sort the result\n",
    "euclidean_dists_sorted = sorted(euclidean_dists, key=(lambda x: x[1]))\n",
    "dtw_dists_sorted = sorted(dtw_dists, key=(lambda x: x[1]))"
   ]
  },
  {
   "cell_type": "code",
   "execution_count": 63,
   "metadata": {
    "collapsed": false
   },
   "outputs": [
    {
     "data": {
      "text/plain": [
       "[(137, 0.048786173385465925),\n",
       " (979, 0.04947798180306272),\n",
       " (951, 0.050912793021390956),\n",
       " (617, 0.052762406541472545),\n",
       " (947, 0.054013142361485356),\n",
       " (616, 0.0542590919779111),\n",
       " (193, 0.054457731611809904),\n",
       " (998, 0.05474820947396863),\n",
       " (219, 0.05546584005742464),\n",
       " (292, 0.057448826870309735),\n",
       " (327, 0.057695249458845986),\n",
       " (459, 0.05917192932128024),\n",
       " (749, 0.0644046344740277),\n",
       " (143, 0.06794457990333636),\n",
       " (456, 0.06821947028059804),\n",
       " (231, 0.0682349685141227),\n",
       " (743, 0.07601540057423666),\n",
       " (689, 0.0771653073653056),\n",
       " (74, 0.07912596342578367),\n",
       " (417, 0.0797564657142975)]"
      ]
     },
     "execution_count": 63,
     "metadata": {},
     "output_type": "execute_result"
    }
   ],
   "source": [
    "euclidean_dists_sorted[:20]"
   ]
  },
  {
   "cell_type": "code",
   "execution_count": 64,
   "metadata": {
    "collapsed": false
   },
   "outputs": [
    {
     "data": {
      "text/plain": [
       "[(908, 0.992156862745098),\n",
       " (168, 1.0274509803921568),\n",
       " (872, 1.0745098039215686),\n",
       " (846, 1.0901960784313725),\n",
       " (842, 1.164705882352941),\n",
       " (81, 1.1803921568627447),\n",
       " (80, 1.223529411764706),\n",
       " (847, 1.2549019607843137),\n",
       " (584, 1.2705882352941178),\n",
       " (843, 1.3098039215686272),\n",
       " (153, 1.329411764705882),\n",
       " (163, 1.333333333333333),\n",
       " (169, 1.3333333333333333),\n",
       " (299, 1.4196078431372545),\n",
       " (342, 1.4196078431372547),\n",
       " (799, 1.4313725490196079),\n",
       " (553, 1.4901960784313717),\n",
       " (575, 1.490196078431373),\n",
       " (552, 1.494117647058823),\n",
       " (433, 1.4980392156862743)]"
      ]
     },
     "execution_count": 64,
     "metadata": {},
     "output_type": "execute_result"
    }
   ],
   "source": [
    "dtw_dists_sorted[:20]"
   ]
  },
  {
   "cell_type": "code",
   "execution_count": 65,
   "metadata": {
    "collapsed": false
   },
   "outputs": [
    {
     "name": "stdout",
     "output_type": "stream",
     "text": [
      "17\n"
     ]
    }
   ],
   "source": [
    "# take out 100 neighbors using both euclidean distance and dtw distance. \n",
    "# See the number of the overlap neighbors between them\n",
    "euclid_set = set()\n",
    "dtw_set = set()\n",
    "for i in range(100):\n",
    "    euclid_set.add(euclidean_dists_sorted[i][0])\n",
    "    dtw_set.add(dtw_dists_sorted[i][0])\n",
    "count = 0\n",
    "for x in euclid_set:\n",
    "    if x in dtw_set:\n",
    "        count += 1\n",
    "print count"
   ]
  },
  {
   "cell_type": "code",
   "execution_count": null,
   "metadata": {
    "collapsed": true
   },
   "outputs": [],
   "source": []
  }
 ],
 "metadata": {
  "kernelspec": {
   "display_name": "Python 2",
   "language": "python",
   "name": "python2"
  },
  "language_info": {
   "codemirror_mode": {
    "name": "ipython",
    "version": 2
   },
   "file_extension": ".py",
   "mimetype": "text/x-python",
   "name": "python",
   "nbconvert_exporter": "python",
   "pygments_lexer": "ipython2",
   "version": "2.7.6"
  }
 },
 "nbformat": 4,
 "nbformat_minor": 1
}
