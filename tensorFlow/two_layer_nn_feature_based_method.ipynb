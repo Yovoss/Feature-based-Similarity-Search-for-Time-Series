{
 "cells": [
  {
   "cell_type": "code",
   "execution_count": 1,
   "metadata": {
    "collapsed": true
   },
   "outputs": [],
   "source": [
    "\"\"\"\n",
    "This file contained the feature-based similarity search method using two-layer neural network\n",
    "\n",
    "Created by Zexi Chen(zchen22)\n",
    "Date: Oct 2, 2016\n",
    "\"\"\"\n",
    "\n",
    "import numpy\n",
    "import six.moves.cPickle as pickle\n",
    "import tensorflow as tf\n",
    "import matplotlib.pyplot as plt\n",
    "import math\n",
    "\n",
    "from ConvLayer import ConvLayer\n",
    "from helper import loadData, dtw, euclideanDist\n",
    "%matplotlib inline"
   ]
  },
  {
   "cell_type": "code",
   "execution_count": 2,
   "metadata": {
    "collapsed": true
   },
   "outputs": [],
   "source": [
    "# read the data and rescale to 0-1\n",
    "# samples* is a dataset with 10000 time series sampled from original images(2001 image and 2006 image) randomly\n",
    "train_set = loadData('../theano/data/samples1')\n",
    "valid_set = loadData('../theano/data/samples2')\n",
    "test_set = loadData('../theano/data/samples3')"
   ]
  },
  {
   "cell_type": "code",
   "execution_count": 3,
   "metadata": {
    "collapsed": true
   },
   "outputs": [],
   "source": [
    "def makePairs(dataset, numInstance):\n",
    "    # pick numInstance pairs of time series at random from the training set    \n",
    "    sampleIndices = numpy.random.choice(dataset.shape[0], 2 * numInstance)\n",
    "    data_set_samples = numpy.zeros((2 * numInstance, dataset.shape[1]),dtype=numpy.float32)\n",
    "    for i in range(numInstance * 2):\n",
    "        data_set_samples[i] = dataset[sampleIndices[i]]\n",
    "    \n",
    "    data_set_reshape = numpy.reshape(data_set_samples, (data_set_samples.shape[0]/2, data_set_samples.shape[1]*2))\n",
    "    data_set1 = data_set_reshape/255.0\n",
    "    data_dtws = numpy.zeros((data_set1.shape[0],1), dtype=numpy.float32)\n",
    "    for i in range(data_set1.shape[0]):\n",
    "        data_dtws[i,0] = dtw(data_set1[i,0:23], data_set1[i,23:])**2\n",
    "    \n",
    "    return data_set1, data_dtws"
   ]
  },
  {
   "cell_type": "code",
   "execution_count": 4,
   "metadata": {
    "collapsed": false
   },
   "outputs": [],
   "source": [
    "# shuffle, make pairs of time series,and calculate pair-wise dtw \n",
    "valid_set1, valid_dtws = makePairs(valid_set, valid_set.shape[0])\n",
    "test_set1, test_dtws = makePairs(test_set, test_set.shape[0])"
   ]
  },
  {
   "cell_type": "code",
   "execution_count": 5,
   "metadata": {
    "collapsed": false
   },
   "outputs": [],
   "source": [
    "# build the neural network model\n",
    "# start the tensorflow interaction interface\n",
    "sess = tf.InteractiveSession()"
   ]
  },
  {
   "cell_type": "code",
   "execution_count": 6,
   "metadata": {
    "collapsed": false
   },
   "outputs": [],
   "source": [
    "n_hiddens = [200,100,50]\n",
    "learning_rate = [1e-2]\n",
    "training_iter = 10000\n",
    "\n",
    "# create two variable placehold, x for the training features, \n",
    "# y for the labels(in this model it is the dtw distance between two time series)\n",
    "x = tf.placeholder(tf.float32, shape=[None, train_set.shape[1]*2])\n",
    "y = tf.placeholder(tf.float32, shape=[None, 1])\n",
    "\n",
    "layer1 = ConvLayer(\n",
    "    None,\n",
    "    None,\n",
    "    input = x,\n",
    "    activation = tf.nn.sigmoid,\n",
    "    n_visible = train_set.shape[1]*2,\n",
    "    n_hidden =  n_hiddens[0]\n",
    ")\n",
    "\n",
    "layer2 = ConvLayer(\n",
    "    None,\n",
    "    None,\n",
    "    input = layer1.output,\n",
    "    activation = tf.nn.sigmoid,\n",
    "    n_visible = n_hiddens[0]*2,\n",
    "    n_hidden = n_hiddens[1]\n",
    ")\n",
    "\n",
    "layer3 = ConvLayer(\n",
    "    None,\n",
    "    None,\n",
    "    input = layer2.output,\n",
    "    activation = tf.nn.sigmoid,\n",
    "    n_visible = n_hiddens[1]*2,\n",
    "    n_hidden = n_hiddens[2]\n",
    ")"
   ]
  },
  {
   "cell_type": "code",
   "execution_count": 7,
   "metadata": {
    "collapsed": true
   },
   "outputs": [],
   "source": [
    "# compute the cost and minimize it\n",
    "cost = layer3.cost_function(y)\n",
    "train_step = tf.train.AdamOptimizer(learning_rate[0]).minimize(cost)\n",
    "\n",
    "sess.run(tf.initialize_all_variables())"
   ]
  },
  {
   "cell_type": "code",
   "execution_count": 8,
   "metadata": {
    "collapsed": false
   },
   "outputs": [
    {
     "name": "stdout",
     "output_type": "stream",
     "text": [
      "step 0, mean training error 1443.69, validation error 1577.79\n",
      "step 100, mean training error 751.737, validation error 707.074\n",
      "step 200, mean training error 635.389, validation error 703.929\n",
      "step 300, mean training error 653.056, validation error 698.808\n",
      "step 400, mean training error 644.607, validation error 700.041\n",
      "step 500, mean training error 663.364, validation error 696.917\n",
      "step 600, mean training error 645.294, validation error 694.994\n",
      "step 700, mean training error 665.395, validation error 696.426\n",
      "step 800, mean training error 646.279, validation error 698.044\n",
      "step 900, mean training error 654.838, validation error 694.287\n",
      "step 1000, mean training error 650.546, validation error 692.492\n",
      "step 1100, mean training error 658.74, validation error 692.823\n",
      "step 1200, mean training error 661.229, validation error 694.555\n",
      "step 1300, mean training error 641.059, validation error 694.165\n",
      "step 1400, mean training error 640.232, validation error 691.868\n",
      "step 1500, mean training error 649.274, validation error 691.416\n",
      "step 1600, mean training error 645.268, validation error 691.564\n",
      "step 1700, mean training error 630.262, validation error 691.28\n",
      "step 1800, mean training error 654.269, validation error 691.333\n",
      "step 1900, mean training error 633.237, validation error 691.032\n",
      "step 2000, mean training error 646.772, validation error 691.117\n",
      "step 2100, mean training error 662.709, validation error 691.781\n",
      "step 2200, mean training error 668.524, validation error 691.085\n",
      "step 2300, mean training error 659.583, validation error 694.039\n",
      "step 2400, mean training error 648.086, validation error 690.774\n",
      "step 2500, mean training error 629.115, validation error 691.445\n",
      "step 2600, mean training error 629.187, validation error 691.902\n",
      "step 2700, mean training error 641.576, validation error 690.41\n",
      "step 2800, mean training error 642.224, validation error 691.918\n",
      "step 2900, mean training error 644.721, validation error 691.024\n",
      "step 3000, mean training error 638.305, validation error 697.616\n",
      "step 3100, mean training error 651.269, validation error 691.107\n",
      "step 3200, mean training error 638.158, validation error 690.644\n",
      "step 3300, mean training error 623.262, validation error 690.274\n",
      "step 3400, mean training error 643.24, validation error 690.128\n",
      "step 3500, mean training error 641.884, validation error 690.452\n",
      "step 3600, mean training error 635.982, validation error 691.511\n",
      "step 3700, mean training error 640.438, validation error 690.857\n",
      "step 3800, mean training error 647.402, validation error 691.306\n",
      "step 3900, mean training error 646.315, validation error 689.99\n",
      "step 4000, mean training error 654.159, validation error 692.655\n",
      "step 4100, mean training error 618.872, validation error 691.323\n",
      "step 4200, mean training error 639.883, validation error 690.008\n",
      "step 4300, mean training error 650.214, validation error 690.619\n",
      "step 4400, mean training error 644.476, validation error 690.292\n",
      "step 4500, mean training error 651.736, validation error 692.691\n",
      "step 4600, mean training error 653.43, validation error 690.633\n",
      "step 4700, mean training error 620.483, validation error 689.411\n",
      "step 4800, mean training error 641.18, validation error 690.458\n",
      "step 4900, mean training error 661.702, validation error 690.127\n",
      "step 5000, mean training error 642.068, validation error 689.662\n",
      "step 5100, mean training error 630.666, validation error 690.141\n",
      "step 5200, mean training error 649.471, validation error 690.27\n",
      "step 5300, mean training error 649.061, validation error 689.906\n",
      "step 5400, mean training error 637.98, validation error 690.65\n",
      "step 5500, mean training error 649.051, validation error 689.613\n",
      "step 5600, mean training error 641.12, validation error 689.684\n",
      "step 5700, mean training error 647.598, validation error 689.552\n",
      "step 5800, mean training error 643.1, validation error 690.987\n",
      "step 5900, mean training error 651.287, validation error 690.424\n",
      "step 6000, mean training error 657.97, validation error 691.325\n",
      "step 6100, mean training error 665.067, validation error 689.239\n",
      "step 6200, mean training error 631.074, validation error 690.919\n",
      "step 6300, mean training error 659.738, validation error 690.424\n",
      "step 6400, mean training error 645.568, validation error 689.734\n",
      "step 6500, mean training error 615.858, validation error 689.914\n",
      "step 6600, mean training error 638.704, validation error 689.773\n",
      "step 6700, mean training error 650.655, validation error 689.796\n",
      "step 6800, mean training error 638.618, validation error 689.457\n",
      "step 6900, mean training error 657.054, validation error 689.984\n",
      "step 7000, mean training error 630.151, validation error 689.346\n",
      "step 7100, mean training error 657.134, validation error 690.363\n",
      "step 7200, mean training error 633.348, validation error 690.602\n",
      "step 7300, mean training error 626.692, validation error 692.56\n",
      "step 7400, mean training error 654.34, validation error 694.317\n",
      "step 7500, mean training error 617.168, validation error 688.897\n",
      "step 7600, mean training error 634.563, validation error 689.226\n",
      "step 7700, mean training error 641.109, validation error 689.969\n",
      "step 7800, mean training error 636.782, validation error 689.539\n",
      "step 7900, mean training error 647.064, validation error 689.201\n",
      "step 8000, mean training error 640.337, validation error 689.315\n",
      "step 8100, mean training error 647.377, validation error 689.809\n",
      "step 8200, mean training error 638.186, validation error 691.806\n",
      "step 8300, mean training error 649.86, validation error 689.47\n",
      "step 8400, mean training error 660.539, validation error 689.755\n",
      "step 8500, mean training error 644.921, validation error 689.244\n",
      "step 8600, mean training error 643.499, validation error 688.676\n",
      "step 8700, mean training error 640.885, validation error 689.777\n",
      "step 8800, mean training error 633.995, validation error 691.801\n",
      "step 8900, mean training error 657.955, validation error 689.098\n",
      "step 9000, mean training error 632.498, validation error 689.68\n",
      "step 9100, mean training error 643.128, validation error 688.753\n",
      "step 9200, mean training error 646.201, validation error 691.72\n",
      "step 9300, mean training error 649.031, validation error 688.681\n",
      "step 9400, mean training error 638.172, validation error 690.615\n",
      "step 9500, mean training error 633.038, validation error 687.606\n",
      "step 9600, mean training error 647.682, validation error 690.985\n",
      "step 9700, mean training error 650.543, validation error 688.155\n",
      "step 9800, mean training error 650.514, validation error 690.336\n",
      "step 9900, mean training error 619.801, validation error 687.979\n"
     ]
    }
   ],
   "source": [
    "# run the model\n",
    "train_error = []\n",
    "valid_error = []\n",
    "best_valid_error = numpy.inf\n",
    "numInstance = 1000\n",
    "train_iter_error = []\n",
    "for i in range(training_iter):\n",
    "    sample_train_set, sample_train_dtws = makePairs(train_set, numInstance)\n",
    "    space_holder, train_err = sess.run([train_step, cost], feed_dict={x:sample_train_set, y:sample_train_dtws})\n",
    "    train_iter_error.append(train_err)\n",
    "    if i%100 == 0:\n",
    "        train_error.append(numpy.mean(train_iter_error))\n",
    "        train_iter_error = []\n",
    "        valid_err = sess.run([cost],feed_dict={x:valid_set1, y:valid_dtws})\n",
    "        valid_error.append(valid_err)\n",
    "        print(\"step %d, mean training error %g, validation error %g\"%(i, train_error[-1], valid_error[-1][0]))\n",
    "        if valid_error[-1][0] < best_valid_error * 0.995:\n",
    "            W_1 = sess.run(layer1.W)\n",
    "            b_1 = sess.run(layer1.b)\n",
    "            W_2 = sess.run(layer2.W)\n",
    "            b_2 = sess.run(layer2.b)\n",
    "            W_3 = sess.run(layer3.W)\n",
    "            b_3 = sess.run(layer3.b)\n",
    "            best_valid_error = valid_error[-1][0]"
   ]
  },
  {
   "cell_type": "code",
   "execution_count": 10,
   "metadata": {
    "collapsed": false
   },
   "outputs": [
    {
     "data": {
      "image/png": "[encoded data removed]",
      "text/plain": [
       "<matplotlib.figure.Figure at 0x7fd38ba7e0d0>"
      ]
     },
     "metadata": {},
     "output_type": "display_data"
    }
   ],
   "source": [
    "# plot the training error and validation error\n",
    "Xaxis = [x * 100 for x in range(training_iter/100)]\n",
    "plt.plot(Xaxis, train_error, 'r',label='train error')\n",
    "plt.plot(Xaxis, valid_error, 'g',label='validation error')\n",
    "plt.show()"
   ]
  },
  {
   "cell_type": "code",
   "execution_count": 11,
   "metadata": {
    "collapsed": false
   },
   "outputs": [
    {
     "data": {
      "text/plain": [
       "(10000, 46)"
      ]
     },
     "execution_count": 11,
     "metadata": {},
     "output_type": "execute_result"
    }
   ],
   "source": [
    "test_set1.shape"
   ]
  },
  {
   "cell_type": "code",
   "execution_count": 12,
   "metadata": {
    "collapsed": false
   },
   "outputs": [],
   "source": [
    "test_set2 = numpy.reshape(test_set1, (test_set1.shape[0]*2, test_set1.shape[1]/2))"
   ]
  },
  {
   "cell_type": "code",
   "execution_count": 13,
   "metadata": {
    "collapsed": false
   },
   "outputs": [],
   "source": [
    "# reshape the W matrix to [23,10]\n",
    "W_1_prime = numpy.reshape(W_1,[23, n_hiddens[0]])\n",
    "hidden_1 = sess.run(tf.nn.sigmoid(numpy.matmul(test_set2,W_1_prime)+b_1))\n",
    "W_2_prime = numpy.reshape(W_2,[n_hiddens[0], n_hiddens[1]])\n",
    "hidden_2 = sess.run(tf.nn.sigmoid(numpy.matmul(hidden_1,W_2_prime)+b_2))\n",
    "W_3_prime = numpy.reshape(W_3,[n_hiddens[1], n_hiddens[2]])\n",
    "hidden_3 = tf.nn.sigmoid(numpy.matmul(hidden_2,W_3_prime)+b_3)"
   ]
  },
  {
   "cell_type": "code",
   "execution_count": 14,
   "metadata": {
    "collapsed": true
   },
   "outputs": [],
   "source": [
    "test_features = sess.run(hidden_3)"
   ]
  },
  {
   "cell_type": "code",
   "execution_count": 15,
   "metadata": {
    "collapsed": false
   },
   "outputs": [
    {
     "data": {
      "text/plain": [
       "(20000, 50)"
      ]
     },
     "execution_count": 15,
     "metadata": {},
     "output_type": "execute_result"
    }
   ],
   "source": [
    "test_features.shape"
   ]
  },
  {
   "cell_type": "code",
   "execution_count": 16,
   "metadata": {
    "collapsed": true
   },
   "outputs": [],
   "source": [
    "# evaluate function\n",
    "def evaluateFunc(num, ori_set, new_set, nn, nNeighbor=100):\n",
    "    '''\n",
    "        num: the number of sample time series we use to evaluate the performance of our neural network model\n",
    "        ori_set: it is the original dataset\n",
    "        new_set: this is the dataset generated after we perform our neural network model on our original dataset\n",
    "        nn: the number of time series we use to calculate the dtw and euclidean distance\n",
    "        nNeighbor: the number of neighbors we extracted to compare the overlap between dtw and euclidean distances\n",
    "    '''\n",
    "    result = []\n",
    "    for n in range(num):\n",
    "        euclidean_dists = []\n",
    "        dtw_dists = []\n",
    "        for i in range(nn):\n",
    "            dtw_dists.append((i,dtw(ori_set[i], ori_set[nn + n])))\n",
    "            euclidean_dists.append((i, euclideanDist(new_set[i], new_set[nn + n])))\n",
    "        euclidean_dists_sorted = sorted(euclidean_dists, key=(lambda x: x[1]))\n",
    "        dtw_dists_sorted = sorted(dtw_dists, key=(lambda x: x[1]))\n",
    "        euclid_set = set()\n",
    "        dtw_set = set()\n",
    "        for i in range(nNeighbor):\n",
    "            euclid_set.add(euclidean_dists_sorted[i][0])\n",
    "            dtw_set.add(dtw_dists_sorted[i][0])\n",
    "        count = 0\n",
    "        for x in euclid_set:\n",
    "            if x in dtw_set:\n",
    "                count += 1\n",
    "        result.append(float(count)/nNeighbor)\n",
    "    return reduce(lambda x, y: x + y, result)/len(result)"
   ]
  },
  {
   "cell_type": "code",
   "execution_count": 17,
   "metadata": {
    "collapsed": false
   },
   "outputs": [],
   "source": [
    "perform = evaluateFunc(1000, test_set2, test_features, 1000)"
   ]
  },
  {
   "cell_type": "code",
   "execution_count": 18,
   "metadata": {
    "collapsed": false
   },
   "outputs": [
    {
     "name": "stdout",
     "output_type": "stream",
     "text": [
      "0.47119\n"
     ]
    }
   ],
   "source": [
    "print perform"
   ]
  },
  {
   "cell_type": "code",
   "execution_count": null,
   "metadata": {
    "collapsed": true
   },
   "outputs": [],
   "source": [
    "# with hidden layers defined as [100, 50], we get around 53.984% overlapping\n",
    "# with hidden layers defined as [100, 23], we get around 40.405%\n",
    "# with hidden layers defined as [100, 50, 23], we get around 40.646% overlapping"
   ]
  }
 ],
 "metadata": {
  "kernelspec": {
   "display_name": "Python 2",
   "language": "python",
   "name": "python2"
  },
  "language_info": {
   "codemirror_mode": {
    "name": "ipython",
    "version": 2
   },
   "file_extension": ".py",
   "mimetype": "text/x-python",
   "name": "python",
   "nbconvert_exporter": "python",
   "pygments_lexer": "ipython2",
   "version": "2.7.6"
  }
 },
 "nbformat": 4,
 "nbformat_minor": 1
}
