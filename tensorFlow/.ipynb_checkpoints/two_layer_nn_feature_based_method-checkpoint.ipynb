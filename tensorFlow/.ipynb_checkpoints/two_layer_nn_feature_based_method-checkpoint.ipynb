{
 "cells": [
  {
   "cell_type": "code",
   "execution_count": 1,
   "metadata": {
    "collapsed": true
   },
   "outputs": [],
   "source": [
    "\"\"\"\n",
    "This file contained the feature-based similarity search method using two-layer neural network\n",
    "\n",
    "Created by Zexi Chen(zchen22)\n",
    "Date: Oct 2, 2016\n",
    "Edited by Zexi Chen at Jan 26, 2017\n",
    "\"\"\"\n",
    "\n",
    "import numpy\n",
    "import six.moves.cPickle as pickle\n",
    "import tensorflow as tf\n",
    "import matplotlib.pyplot as plt\n",
    "import math\n",
    "\n",
    "from ConvLayer import ConvLayer\n",
    "from helper import loadData, dtw, euclideanDist\n",
    "%matplotlib inline"
   ]
  },
  {
   "cell_type": "code",
   "execution_count": 2,
   "metadata": {
    "collapsed": true
   },
   "outputs": [],
   "source": [
    "# read the data and rescale to 0-1\n",
    "# samples* is a dataset with 10000 time series sampled from original images(2001 image and 2006 image) randomly\n",
    "train_set = loadData('../theano/data/samples1')\n",
    "valid_set = loadData('../theano/data/samples2')\n",
    "test_set = loadData('../theano/data/samples3')"
   ]
  },
  {
   "cell_type": "code",
   "execution_count": 3,
   "metadata": {
    "collapsed": true
   },
   "outputs": [],
   "source": [
    "def makePairs(dataset, numInstance):\n",
    "    # pick numInstance pairs of time series at random from the training set    \n",
    "    sampleIndices = numpy.random.choice(dataset.shape[0], 2 * numInstance)\n",
    "    data_set_samples = numpy.zeros((2 * numInstance, dataset.shape[1]),dtype=numpy.float32)\n",
    "    for i in range(numInstance * 2):\n",
    "        data_set_samples[i] = dataset[sampleIndices[i]]\n",
    "    \n",
    "    data_set_reshape = numpy.reshape(data_set_samples, (data_set_samples.shape[0]/2, data_set_samples.shape[1]*2))\n",
    "    data_set1 = data_set_reshape/255.0\n",
    "    data_dtws = numpy.zeros((data_set1.shape[0],1), dtype=numpy.float32)\n",
    "    for i in range(data_set1.shape[0]):\n",
    "        data_dtws[i,0] = dtw(data_set1[i,0:23], data_set1[i,23:])**2\n",
    "    \n",
    "    return data_set1, data_dtws"
   ]
  },
  {
   "cell_type": "code",
   "execution_count": 4,
   "metadata": {
    "collapsed": false
   },
   "outputs": [],
   "source": [
    "# shuffle, make pairs of time series,and calculate pair-wise dtw \n",
    "valid_set1, valid_dtws = makePairs(valid_set, valid_set.shape[0])\n",
    "test_set1, test_dtws = makePairs(test_set, test_set.shape[0])"
   ]
  },
  {
   "cell_type": "code",
   "execution_count": 5,
   "metadata": {
    "collapsed": false
   },
   "outputs": [],
   "source": [
    "# build the neural network model\n",
    "# start the tensorflow interaction interface\n",
    "sess = tf.InteractiveSession()"
   ]
  },
  {
   "cell_type": "code",
   "execution_count": 9,
   "metadata": {
    "collapsed": false
   },
   "outputs": [],
   "source": [
    "n_hiddens = [200,100,50]\n",
    "\n",
    "learning_rate = [1e-2]\n",
    "# create two variable placehold, x for the training features, \n",
    "# y for the labels(in this model it is the dtw distance between two time series)\n",
    "x = tf.placeholder(tf.float32, shape=[None, train_set.shape[1]*2])\n",
    "y = tf.placeholder(tf.float32, shape=[None, 1])\n",
    "\n",
    "layer1 = ConvLayer(\n",
    "    None,\n",
    "    None,\n",
    "    input = x,\n",
    "    activation = tf.nn.relu,\n",
    "    n_visible = train_set.shape[1]*2,\n",
    "    n_hidden =  n_hiddens[0],\n",
    "    dropout= 0\n",
    ")\n",
    "\n",
    "layer2 = ConvLayer(\n",
    "    None,\n",
    "    None,\n",
    "    input = layer1.output,\n",
    "    activation = tf.nn.relu,\n",
    "    n_visible = n_hiddens[0]*2,\n",
    "    n_hidden = n_hiddens[1],\n",
    "    dropout=0\n",
    ")\n",
    "\n",
    "layer3 = ConvLayer(\n",
    "    None,\n",
    "    None,\n",
    "    input = layer2.output,\n",
    "    activation = tf.nn.relu,\n",
    "    n_visible = n_hiddens[1]*2,\n",
    "    n_hidden = n_hiddens[2],\n",
    "    dropout=0\n",
    ")"
   ]
  },
  {
   "cell_type": "code",
   "execution_count": 10,
   "metadata": {
    "collapsed": false
   },
   "outputs": [],
   "source": [
    "# compute the cost and minimize it\n",
    "cost = layer3.cost_function(y)\n",
    "train_step = tf.train.AdamOptimizer(learning_rate[0]).minimize(cost)\n",
    "\n",
    "sess.run(tf.initialize_all_variables())"
   ]
  },
  {
   "cell_type": "code",
   "execution_count": null,
   "metadata": {
    "collapsed": false
   },
   "outputs": [],
   "source": [
    "\n",
    "training_iter = 10000\n",
    "\n",
    "# run the model\n",
    "train_error = []\n",
    "valid_error = []\n",
    "best_valid_error = numpy.inf\n",
    "numInstance = 1000\n",
    "train_iter_error = []\n",
    "for i in range(training_iter):\n",
    "    sample_train_set, sample_train_dtws = makePairs(train_set, numInstance)\n",
    "    space_holder, train_err = sess.run([train_step, cost], feed_dict={x:sample_train_set, y:sample_train_dtws})\n",
    "    train_iter_error.append(train_err)\n",
    "    if i%100 == 0:\n",
    "        train_error.append(numpy.mean(train_iter_error))\n",
    "        train_iter_error = []\n",
    "        valid_err = sess.run([cost],feed_dict={x:valid_set1, y:valid_dtws})\n",
    "        valid_error.append(valid_err)\n",
    "        print(\"step %d, mean training error %g, validation error %g\"%(i, train_error[-1], valid_error[-1][0]))\n",
    "        if valid_error[-1][0] < best_valid_error * 0.995:\n",
    "            W_1 = sess.run(layer1.W)\n",
    "            b_1 = sess.run(layer1.b)\n",
    "            W_2 = sess.run(layer2.W)\n",
    "            b_2 = sess.run(layer2.b)\n",
    "            W_3 = sess.run(layer3.W)\n",
    "            b_3 = sess.run(layer3.b)\n",
    "            best_valid_error = valid_error[-1][0]"
   ]
  },
  {
   "cell_type": "code",
   "execution_count": 10,
   "metadata": {
    "collapsed": false
   },
   "outputs": [
    {
     "data": {
      "image/png": "[encoded data removed]",
      "text/plain": [
       "<matplotlib.figure.Figure at 0x7f145c74ac10>"
      ]
     },
     "metadata": {},
     "output_type": "display_data"
    }
   ],
   "source": [
    "# plot the training error and validation error\n",
    "Xaxis = [x * 100 for x in range(training_iter/100)]\n",
    "plt.plot(Xaxis, train_error, 'r',label='train error')\n",
    "plt.plot(Xaxis, valid_error, 'g',label='validation error')\n",
    "plt.show()"
   ]
  },
  {
   "cell_type": "code",
   "execution_count": 11,
   "metadata": {
    "collapsed": false
   },
   "outputs": [
    {
     "data": {
      "text/plain": [
       "(10000, 46)"
      ]
     },
     "execution_count": 11,
     "metadata": {},
     "output_type": "execute_result"
    }
   ],
   "source": [
    "test_set1.shape"
   ]
  },
  {
   "cell_type": "code",
   "execution_count": 12,
   "metadata": {
    "collapsed": false
   },
   "outputs": [],
   "source": [
    "test_set2 = numpy.reshape(test_set1, (test_set1.shape[0]*2, test_set1.shape[1]/2))"
   ]
  },
  {
   "cell_type": "code",
   "execution_count": 13,
   "metadata": {
    "collapsed": false
   },
   "outputs": [],
   "source": [
    "# reshape the W matrix to [23,10]\n",
    "W_1_prime = numpy.reshape(W_1,[23, n_hiddens[0]])\n",
    "hidden_1 = sess.run(tf.nn.sigmoid(numpy.matmul(test_set2,W_1_prime)+b_1))\n",
    "W_2_prime = numpy.reshape(W_2,[n_hiddens[0], n_hiddens[1]])\n",
    "hidden_2 = sess.run(tf.nn.sigmoid(numpy.matmul(hidden_1,W_2_prime)+b_2))\n",
    "W_3_prime = numpy.reshape(W_3,[n_hiddens[1], n_hiddens[2]])\n",
    "hidden_3 = tf.nn.sigmoid(numpy.matmul(hidden_2,W_3_prime)+b_3)"
   ]
  },
  {
   "cell_type": "code",
   "execution_count": 14,
   "metadata": {
    "collapsed": true
   },
   "outputs": [],
   "source": [
    "test_features = sess.run(hidden_3)"
   ]
  },
  {
   "cell_type": "code",
   "execution_count": 15,
   "metadata": {
    "collapsed": false
   },
   "outputs": [
    {
     "data": {
      "text/plain": [
       "(20000, 50)"
      ]
     },
     "execution_count": 15,
     "metadata": {},
     "output_type": "execute_result"
    }
   ],
   "source": [
    "test_features.shape"
   ]
  },
  {
   "cell_type": "code",
   "execution_count": 16,
   "metadata": {
    "collapsed": true
   },
   "outputs": [],
   "source": [
    "# evaluate function\n",
    "def evaluateFunc(num, ori_set, new_set, nn, nNeighbor=100):\n",
    "    '''\n",
    "        num: the number of sample time series we use to evaluate the performance of our neural network model\n",
    "        ori_set: it is the original dataset\n",
    "        new_set: this is the dataset generated after we perform our neural network model on our original dataset\n",
    "        nn: the number of time series we use to calculate the dtw and euclidean distance\n",
    "        nNeighbor: the number of neighbors we extracted to compare the overlap between dtw and euclidean distances\n",
    "    '''\n",
    "    result = []\n",
    "    for n in range(num):\n",
    "        euclidean_dists = []\n",
    "        dtw_dists = []\n",
    "        for i in range(nn):\n",
    "            dtw_dists.append((i,dtw(ori_set[i], ori_set[nn + n])))\n",
    "            euclidean_dists.append((i, euclideanDist(new_set[i], new_set[nn + n])))\n",
    "        euclidean_dists_sorted = sorted(euclidean_dists, key=(lambda x: x[1]))\n",
    "        dtw_dists_sorted = sorted(dtw_dists, key=(lambda x: x[1]))\n",
    "        euclid_set = set()\n",
    "        dtw_set = set()\n",
    "        for i in range(nNeighbor):\n",
    "            euclid_set.add(euclidean_dists_sorted[i][0])\n",
    "            dtw_set.add(dtw_dists_sorted[i][0])\n",
    "        count = 0\n",
    "        for x in euclid_set:\n",
    "            if x in dtw_set:\n",
    "                count += 1\n",
    "        result.append(float(count)/nNeighbor)\n",
    "    return reduce(lambda x, y: x + y, result)/len(result)"
   ]
  },
  {
   "cell_type": "code",
   "execution_count": 17,
   "metadata": {
    "collapsed": false
   },
   "outputs": [],
   "source": [
    "perform = evaluateFunc(1000, test_set2, test_features, 1000)"
   ]
  },
  {
   "cell_type": "code",
   "execution_count": 18,
   "metadata": {
    "collapsed": false
   },
   "outputs": [
    {
     "name": "stdout",
     "output_type": "stream",
     "text": [
      "0.61515\n"
     ]
    }
   ],
   "source": [
    "print perform"
   ]
  },
  {
   "cell_type": "code",
   "execution_count": null,
   "metadata": {
    "collapsed": true
   },
   "outputs": [],
   "source": [
    "# affine-sigmoid-affine-sigmoid\n",
    "# with hidden layers defined as [100, 50], we get around 53.984% overlapping\n",
    "# with hidden layers defined as [100, 23], we get around 40.405%\n",
    "# affine-sigmoid-affine-sigmoid-affine-sigmoid\n",
    "# with hidden layers defined as [100, 50, 23], we get around 40.646% overlapping\n",
    "# affine-relu-affine-relu-affine-relu\n",
    "# with hidden layers defined as [200,100,50], we get around 61.51% overlapping"
   ]
  }
 ],
 "metadata": {
  "kernelspec": {
   "display_name": "Python 2",
   "language": "python",
   "name": "python2"
  },
  "language_info": {
   "codemirror_mode": {
    "name": "ipython",
    "version": 2
   },
   "file_extension": ".py",
   "mimetype": "text/x-python",
   "name": "python",
   "nbconvert_exporter": "python",
   "pygments_lexer": "ipython2",
   "version": "2.7.6"
  }
 },
 "nbformat": 4,
 "nbformat_minor": 1
}
