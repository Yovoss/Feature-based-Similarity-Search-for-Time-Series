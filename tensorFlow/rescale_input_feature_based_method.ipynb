{
 "cells": [
  {
   "cell_type": "code",
   "execution_count": 1,
   "metadata": {
    "collapsed": true
   },
   "outputs": [],
   "source": [
    "# This file is to implement the designed feature-based similarity distance method\n",
    "# The cost function is defined as the square of discrepancy between DTW of two real time series and Euclidean of the\n",
    "# two time series in new feature space.\n",
    "# The input time series is re-scaled into [0,1]\n",
    "# Date: 9/29/2016\n",
    "# Author: Zexi Chen(zchen22)"
   ]
  },
  {
   "cell_type": "code",
   "execution_count": 2,
   "metadata": {
    "collapsed": true
   },
   "outputs": [],
   "source": [
    "import numpy\n",
    "import six.moves.cPickle as pickle\n",
    "import tensorflow as tf\n",
    "import matplotlib.pyplot as plt\n",
    "%matplotlib inline"
   ]
  },
  {
   "cell_type": "code",
   "execution_count": 3,
   "metadata": {
    "collapsed": true
   },
   "outputs": [],
   "source": [
    "# samples1 file contains 10000 time series, and each one has 23 time points\n",
    "# It is used as the training data\n",
    "fileObject1 = open('../theano/data/samples1','r')\n",
    "train_set = pickle.load(fileObject1)"
   ]
  },
  {
   "cell_type": "code",
   "execution_count": 4,
   "metadata": {
    "collapsed": true
   },
   "outputs": [],
   "source": [
    "# sample2 file contains 10000 time series, same format\n",
    "# It is used as the validation set\n",
    "fileObject2 = open('../theano/data/samples2','r')\n",
    "valid_set = pickle.load(fileObject2)"
   ]
  },
  {
   "cell_type": "code",
   "execution_count": 5,
   "metadata": {
    "collapsed": true
   },
   "outputs": [],
   "source": [
    "# sample3 file contains 10000 time series served as test data\n",
    "fileObject3 = open('../theano/data/samples3','r')\n",
    "test_set = pickle.load(fileObject3)"
   ]
  },
  {
   "cell_type": "code",
   "execution_count": 6,
   "metadata": {
    "collapsed": true
   },
   "outputs": [],
   "source": [
    "# reshape the array, concatenate two time series as one training instance\n",
    "train_set_reshape = numpy.reshape(train_set, (train_set.shape[0]/2, train_set.shape[1]*2))\n",
    "valid_set_reshape = numpy.reshape(valid_set, (valid_set.shape[0]/2, valid_set.shape[1]*2))\n",
    "test_set_reshape = numpy.reshape(test_set, (test_set.shape[0]/2, test_set.shape[1]*2))"
   ]
  },
  {
   "cell_type": "code",
   "execution_count": 11,
   "metadata": {
    "collapsed": true
   },
   "outputs": [],
   "source": [
    "# re-scale input data\n",
    "train_set1 = train_set_reshape/255.0\n",
    "valid_set1 = valid_set_reshape/255.0\n",
    "test_set1 = test_set_reshape/255.0"
   ]
  },
  {
   "cell_type": "code",
   "execution_count": 8,
   "metadata": {
    "collapsed": true
   },
   "outputs": [],
   "source": [
    "# define dtw function\n",
    "def dtw(list1, list2, window = 1):\n",
    "    len1 = len(list1)\n",
    "    len2 = len(list2)\n",
    "    mat = [[float('inf') for x in range(len2 + 1)] for y in range(len1 + 1)]\n",
    "    mat[0][0] = 0\n",
    "    for i in range(1,len1 + 1):\n",
    "        if i - window <= 1:\n",
    "            start = 1\n",
    "        else:\n",
    "            start = i - window\n",
    "        \n",
    "        if i + window <= len2:\n",
    "            end = i + window\n",
    "        else:\n",
    "            end = len2\n",
    "        for j in range(start, end + 1):\n",
    "            cost = abs(float(list1[i - 1] - list2[j - 1]))\n",
    "            mat[i][j] = cost + min(mat[i-1][j], mat[i][j-1],mat[i-1][j-1])\n",
    "        \n",
    "    return mat[len1][len2]"
   ]
  },
  {
   "cell_type": "code",
   "execution_count": 9,
   "metadata": {
    "collapsed": true
   },
   "outputs": [],
   "source": [
    "# define euclidean distance function \n",
    "def euclideanDist(list1,list2):\n",
    "    distance = 0\n",
    "    for x in range(len(list1)):\n",
    "        distance += pow((list1[x]-list2[x]),2)\n",
    "    return math.sqrt(distance)"
   ]
  },
  {
   "cell_type": "code",
   "execution_count": 12,
   "metadata": {
    "collapsed": false
   },
   "outputs": [],
   "source": [
    "# calculate the dtw distance between the two time series in each row of the training data validation data and test data \n",
    "# the dtw is used in the cost function as the target value to minimize\n",
    "train_dtws = numpy.zeros((train_set1.shape[0],1))\n",
    "for i in range(train_set1.shape[0]):\n",
    "    train_dtws[i,0] = dtw(train_set1[i,0:23], train_set1[i,23:])\n",
    "    \n",
    "valid_dtws = numpy.zeros((valid_set1.shape[0],1))\n",
    "for i in range(valid_set1.shape[0]):\n",
    "    valid_dtws[i,0] = dtw(valid_set1[i,0:23], valid_set1[i,23:])\n",
    "    \n",
    "test_dtws = numpy.zeros((test_set1.shape[0],1))\n",
    "for i in range(test_set1.shape[0]):\n",
    "    test_dtws[i,0] = dtw(test_set1[i,0:23], test_set1[i,23:])"
   ]
  },
  {
   "cell_type": "code",
   "execution_count": 13,
   "metadata": {
    "collapsed": true
   },
   "outputs": [],
   "source": [
    "# build the neural network model\n",
    "# start the tensorflow interaction interface\n",
    "sess = tf.InteractiveSession()"
   ]
  },
  {
   "cell_type": "code",
   "execution_count": 14,
   "metadata": {
    "collapsed": true
   },
   "outputs": [],
   "source": [
    "# set the number of nerons in hidden layers\n",
    "numFeatureMaps = 10"
   ]
  },
  {
   "cell_type": "code",
   "execution_count": 15,
   "metadata": {
    "collapsed": true
   },
   "outputs": [],
   "source": [
    "# generate the flow graph. \n",
    "# create two variable placehold, x for the training features, \n",
    "# y for the labels(in this model it is the dtw distance between two time series)\n",
    "x = tf.placeholder(tf.float32, shape=[None, train_set1.shape[1]])\n",
    "y_ = tf.placeholder(tf.float32, shape=[None, 1])"
   ]
  },
  {
   "cell_type": "code",
   "execution_count": 16,
   "metadata": {
    "collapsed": true
   },
   "outputs": [],
   "source": [
    "# define the weight matrix, initialize randomly \n",
    "# truncated_normal: output random values from a truncated normal distribution with value out of 2 sd dropped \n",
    "def weight_variable(shape):\n",
    "    initial = tf.truncated_normal(shape, stddev=0.1)\n",
    "    return tf.Variable(initial)"
   ]
  },
  {
   "cell_type": "code",
   "execution_count": 17,
   "metadata": {
    "collapsed": true
   },
   "outputs": [],
   "source": [
    "# define the bias\n",
    "def bias_variable(shape):\n",
    "    initial = tf.constant(0.1, shape=shape)\n",
    "    return tf.Variable(initial)"
   ]
  },
  {
   "cell_type": "code",
   "execution_count": 19,
   "metadata": {
    "collapsed": true
   },
   "outputs": [],
   "source": [
    "# reshape the training input to comform the CNN model [batch size, width, height, color channels]\n",
    "# x_ts = tf.to_float(x_ts)\n",
    "x_ts = tf.reshape(x, [-1,46,1,1])"
   ]
  },
  {
   "cell_type": "code",
   "execution_count": 20,
   "metadata": {
    "collapsed": true
   },
   "outputs": [],
   "source": [
    "# initialize the weight matrix and the bias\n",
    "# specify the filter size: [filter_width, filter_height, in_channels, out_channels]\n",
    "W_conv1 = weight_variable([23,1,1,numFeatureMaps])\n",
    "b_conv1 = bias_variable([numFeatureMaps])"
   ]
  },
  {
   "cell_type": "code",
   "execution_count": 21,
   "metadata": {
    "collapsed": true
   },
   "outputs": [],
   "source": [
    "# specify the model we use and set up the paratemers\n",
    "def conv2d(x, W):\n",
    "    return tf.nn.conv2d(x, W, strides=[1,23,1,1], padding='SAME')"
   ]
  },
  {
   "cell_type": "code",
   "execution_count": 22,
   "metadata": {
    "collapsed": false
   },
   "outputs": [],
   "source": [
    "# the non-linear function to transfer input to hidden layer\n",
    "h_conv1 = tf.nn.sigmoid(conv2d(x_ts, W_conv1) + b_conv1)"
   ]
  },
  {
   "cell_type": "code",
   "execution_count": 23,
   "metadata": {
    "collapsed": true
   },
   "outputs": [],
   "source": [
    "# define the cost function: (dtw-euclidean(timeseries1 new features, timeseries2 new features))^2\n",
    "h_conv1_flat = tf.reshape(h_conv1,[-1, 2 * numFeatureMaps])\n",
    "h_conv1_flat_diff = tf.square(tf.sub(h_conv1_flat[:,:numFeatureMaps],h_conv1_flat[:,numFeatureMaps:]))\n",
    "cost_function = tf.square(tf.sub(y_ ,tf.sqrt(tf.reduce_sum(h_conv1_flat_diff))))"
   ]
  },
  {
   "cell_type": "code",
   "execution_count": 24,
   "metadata": {
    "collapsed": true
   },
   "outputs": [],
   "source": [
    "# specify the training optimizer for the model\n",
    "train_step = tf.train.AdagradOptimizer(1e-3).minimize(cost_function)"
   ]
  },
  {
   "cell_type": "code",
   "execution_count": 25,
   "metadata": {
    "collapsed": true
   },
   "outputs": [],
   "source": [
    "# initialize the model graph parameters\n",
    "sess.run(tf.initialize_all_variables())"
   ]
  },
  {
   "cell_type": "code",
   "execution_count": null,
   "metadata": {
    "collapsed": true
   },
   "outputs": [],
   "source": [
    "# run the model\n",
    "train_error = []\n",
    "valid_error = []\n",
    "training_epochs = 10000\n",
    "best_valid_error = numpy.inf\n",
    "for i in range(training_epochs):\n",
    "    train_step.run(feed_dict={x:train_set1, y_:train_dtws})\n",
    "    if i%100 == 0:\n",
    "        train_err = cost_function.eval(feed_dict={x:train_set1, y_:train_dtws})\n",
    "        train_error.append(train_err.mean())\n",
    "        valid_err = cost_function.eval(feed_dict={x:valid_set1, y_:valid_dtws})\n",
    "        valid_error.append(valid_err.mean())\n",
    "        print(\"step %d, the mean error of the training data %g, vilidation data %g\"%(i, train_error[-1], valid_error[-1]))\n",
    "        #print h_conv1_flat.eval(feed_dict={x:test_set1})\n",
    "        if valid_error[-1] < best_valid_error * 0.995:\n",
    "            best_valid_error = valid_error[-1]\n",
    "            \n",
    "            saver = tf.train.Saver({\"W_0\": W_conv1, \"b_0\":b_conv1})"
   ]
  },
  {
   "cell_type": "code",
   "execution_count": null,
   "metadata": {
    "collapsed": true
   },
   "outputs": [],
   "source": []
  }
 ],
 "metadata": {
  "kernelspec": {
   "display_name": "Python 2",
   "language": "python",
   "name": "python2"
  },
  "language_info": {
   "codemirror_mode": {
    "name": "ipython",
    "version": 2
   },
   "file_extension": ".py",
   "mimetype": "text/x-python",
   "name": "python",
   "nbconvert_exporter": "python",
   "pygments_lexer": "ipython2",
   "version": "2.7.6"
  }
 },
 "nbformat": 4,
 "nbformat_minor": 1
}
